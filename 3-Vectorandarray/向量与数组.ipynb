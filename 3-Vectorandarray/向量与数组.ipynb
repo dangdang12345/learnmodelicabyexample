{
 "cells": [
  {
   "cell_type": "markdown",
   "metadata": {},
   "source": [
    "# 向量与数组\n",
    "\n",
    "\n",
    "\n",
    "## 示例\n",
    "\n",
    "> [状态空间](./Examples/The%20state%20space.ipynb)\n",
    "\n",
    "> [一维热传导](./Examples/One-dimensional%20heat%20conduction.ipynb)\n",
    "\n",
    "> [化学系统](./Examples/Chemical%20system.ipynb)\n",
    "\n",
    "\n",
    "\n",
    "## 回顾\n",
    "\n",
    "\n",
    "> [数组声明](./Review/Array%20declaration.ipynb)\n",
    "\n",
    "> [数组的建构](./Review/The%20construction%20of%20an%20array.ipynb)\n",
    "\n",
    "> [数组函数](./Review/Array%20Functions.ipynb)\n",
    "\n",
    "> [数组索引](./Review/Array%20index.ipynb)\n",
    "\n",
    "> [循环](./Review/Circulation.ipynb)\n",
    "\n",
    "\n"
   ]
  },
  {
   "cell_type": "code",
   "execution_count": null,
   "metadata": {},
   "outputs": [],
   "source": []
  }
 ],
 "metadata": {
  "anaconda-cloud": {},
  "kernelspec": {
   "display_name": "Python 3",
   "language": "python",
   "name": "python3"
  },
  "language_info": {
   "codemirror_mode": {
    "name": "ipython",
    "version": 3
   },
   "file_extension": ".py",
   "mimetype": "text/x-python",
   "name": "python",
   "nbconvert_exporter": "python",
   "pygments_lexer": "ipython3",
   "version": "3.6.4"
  }
 },
 "nbformat": 4,
 "nbformat_minor": 2
}
