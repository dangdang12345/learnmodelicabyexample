{
 "cells": [
  {
   "cell_type": "markdown",
   "metadata": {},
   "source": [
    "# 向量与数组\n",
    "\n",
    "\n",
    "\n",
    "## 示例\n",
    "\n",
    "> [状态空间](./Examples/The state space.ipynb)\n",
    "\n",
    "> [一维热传导](./Examples/One-dimensional heat conduction.ipynb)\n",
    "\n",
    "> [化学系统](./Examples/Chemical system.ipynb)\n",
    "\n",
    "\n",
    "\n",
    "## 回顾\n",
    "\n",
    "\n",
    "> [数组声明](./Review/Array declaration.ipynb)\n",
    "\n",
    "> [数组的建构](./Review/The construction of an array.ipynb)\n",
    "\n",
    "> [数组函数](./Review/Array Functions.ipynb)\n",
    "\n",
    "> [数组索引](./Review/Array index.ipynb)\n",
    "\n",
    "> [循环](./Review/Circulation.ipynb)\n",
    "\n",
    "\n"
   ]
  }
 ],
 "metadata": {
  "anaconda-cloud": {},
  "kernelspec": {
   "display_name": "Python 3",
   "language": "python",
   "name": "python3"
  },
  "language_info": {
   "codemirror_mode": {
    "name": "ipython",
    "version": 3
   },
   "file_extension": ".py",
   "mimetype": "text/x-python",
   "name": "python",
   "nbconvert_exporter": "python",
   "pygments_lexer": "ipython3",
   "version": "3.6.4"
  }
 },
 "nbformat": 4,
 "nbformat_minor": 2
}
