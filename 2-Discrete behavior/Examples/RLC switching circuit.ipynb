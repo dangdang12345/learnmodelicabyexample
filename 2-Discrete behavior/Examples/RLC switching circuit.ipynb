{
 "cells": [
  {
   "cell_type": "markdown",
   "metadata": {},
   "source": [
    "# RLC开关电路\n",
    "***\n",
    "\n",
    "在本节中，我们将介绍另一个模型。正如本章前面部分介绍的传热模型一样，这个模型里也包含时间事件。\n",
    "\n",
    "这次，我们将展示如何能够模拟在第一章中介绍的那个RLC电路的开关行为。介绍这个例子仅仅是为了在电气模型背景下介绍时间事件。\n",
    "\n",
    "RLC开关电路模型如下：\n",
    "\n",
    "```Modelica\n",
    "model SwitchedRLC \"An RLC circuit with a switch\"\n",
    "  type Voltage=Real(unit=\"V\");\n",
    "  type Current=Real(unit=\"A\");\n",
    "  type Resistance=Real(unit=\"Ohm\");\n",
    "  type Capacitance=Real(unit=\"F\");\n",
    "  type Inductance=Real(unit=\"H\");\n",
    "  parameter Voltage Vb=24 \"Battery voltage\";\n",
    "  parameter Inductance L = 1;\n",
    "  parameter Resistance R = 100;\n",
    "  parameter Capacitance C = 1e-3;\n",
    "  Voltage Vs;\n",
    "  Voltage V;\n",
    "  Current i_L;\n",
    "  Current i_R;\n",
    "  Current i_C;\n",
    "equation \n",
    "  Vs = if time>0.5 then Vb else 0;\n",
    "  i_R = V/R;\n",
    "  i_C = C*der(V);\n",
    "  i_L=i_R+i_C;\n",
    "  L*der(i_L) = (Vs-V);\n",
    "end SwitchedRLC;\n",
    "```\n",
    "时间事件在这个模型里是通过**if表达式引入**的。条件表达式里唯一随着时间变化的量就是time。这意味着条件表达式会触发时间事件。而当底层的数值求解器在对系统公式进行积分时，它可以事先地知道事件的发生时间。\n",
    "\n",
    "\n",
    "在下图我们可以看到在开关式电压供应下模型的电压响应：\n",
    "\n",
    "<img src=\"./figure2\\14.png\" width=\"500\" height=\"400\" alt=\"RLC开关电路的电压响应\" align=center />\n",
    "\n",
    "此外，从下图我们可以看到电感、电阻和电容等元件的电流响应：\n",
    "\n",
    "<img src=\"./figure2\\15.png\" width=\"500\" height=\"400\" alt=\"RLC开关电路的电压响应\" align=center />\n",
    "\n",
    "希望到这里，读者会对用以产生事件和扰动的基本机制感到直观而熟悉。"
   ]
  },
  {
   "cell_type": "code",
   "execution_count": null,
   "metadata": {
    "collapsed": true
   },
   "outputs": [],
   "source": []
  }
 ],
 "metadata": {
  "anaconda-cloud": {},
  "kernelspec": {
   "display_name": "Python 3",
   "language": "python",
   "name": "python3"
  },
  "language_info": {
   "codemirror_mode": {
    "name": "ipython",
    "version": 3
   },
   "file_extension": ".py",
   "mimetype": "text/x-python",
   "name": "python",
   "nbconvert_exporter": "python",
   "pygments_lexer": "ipython3",
   "version": "3.6.0"
  }
 },
 "nbformat": 4,
 "nbformat_minor": 0
}
