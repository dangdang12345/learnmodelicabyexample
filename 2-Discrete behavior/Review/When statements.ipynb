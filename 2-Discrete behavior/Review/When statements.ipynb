{
 "cells": [
  {
   "cell_type": "markdown",
   "metadata": {},
   "source": [
    "# When语句\n",
    "***\n",
    "\n",
    "通过使用when，我们可以表达我们所感兴趣的条件判断以及对这些条件判断的回应。在本节中，我们将回顾when语句背后的主要思想。when语句的一般形式如下：\n",
    "\n",
    "```Modelica\n",
    "when expr then\n",
    "  // Statements\n",
    "end when;\n",
    "```\n",
    "\n",
    "## 对比 if 和 when\n",
    "\n",
    "在前面对滞回的讨论里，我们简要地讨论了if语句和when语句之间的区别。在when语句内的代码仅会在触发条件表达式为真的一瞬间被激活。在所有其它的时候，when语句不会有任何影响。而if陈述或if表达式只要在条件表达式为真时，它们就有效。倘若if陈述或if表达式包含了else子句，那么总会有一个分支有效。\n",
    "\n",
    "\n",
    "## 表达式\n",
    "\n",
    "大多数时候，expr表达式会是个条件表达式，而且通常会涉及关系运算符。when语句常用的条件表达式有如下的形式。\n",
    "```modelica \n",
    "time>=2.0;\n",
    "x>=y+2;\n",
    "phi<=prev_phi;\n",
    "```\n",
    "\n",
    "在弹跳球的例子里，我们遇到过expr并非只有一个（标量）条件表达式，而是由<font color=blue> **条件表达式向量** </font>组成的情况。请回忆前面关于有向量形式条件语句的when语句的讨论：当向量中的 **任何一个条件** 变为真时，when语句就会被激活。\n",
    "\n",
    "\n",
    "## 语句\n",
    "\n",
    "when语句的作用是为变量定义新的取值。我们可以用两种方法定义新的取值。第一种方法是通过将具有以下形式的公式：\n",
    "\n",
    "> ```modelica\n",
    "var = expr;\n",
    "```\n",
    "\n",
    "在这种情况下，var将会等于expr的取值。而expr里的pre操作符用于指代变量在事件前的取值。任何以这种方式赋值的变量均为离散变量。这意味着，这些变量的值仅在事件进行时发生变化。换句话说，变量将是分段常数函数。请注意，以这种方式赋值的变量不可能在仿真的任何时间间隔内都保持连续。\n",
    "\n",
    "虽然严格而言并非必须，但如果你想明确地将变量标记为离散，你可以用discrete限定词作为其前缀（正如我们在本章前面的取样保持所看到的例子一样）。添加discrete限定词可以确保该变量的值必须由when语句来确定。\n",
    "\n",
    "另一种在when变量里为变量赋值的方法，正如在弹跳球的例子里一样，是通过使用reinit操作符。在这种情况下，when语句内部的代码将会有如下形式：\n",
    "\n",
    "> ```modelica \n",
    "reinit(var, expr);```\n",
    "\n",
    "在使用reinit操作符时，变量**var必须是一个状态**。换句话说，此变量必须是微分方程求解的结果。在这样的变量里使用reinit会停止积分过程并改变该状态 （以及其它在同一个when语句里添加了reinit的）的值。紧接着，积分实际上使用了一套新的初始条件重新开始。而没有使用reinit操作符进行重新初始化的其他状态会保持不变。\n",
    "\n",
    "\n",
    "##  algorithm区域\n",
    "\n",
    "最后要注意when语句如何与Modelica的“单赋值规则”产生关系。Modelica规范中的这条规则规定了每一个变量的值都正好对应一个求值的方程。正如速度的测量以及滞回小节里提到的，有时我们需要用多个赋值语句来描述系统行为（或者说这样可以表达得更为清晰）。在这些情况下，如果所有的赋值语句都被只被放在algorithm区域，那么这些语句实际上会被看成是一个等式。但是，这样做会减弱编译器执行符号运算的能力，结果可能至少会影响仿真的性能和模型的可重用性中的一个。\n",
    "\n",
    "\n",
    "值得注意的是，如果在初始化期间需要algorithm区域这种语义，Modelica包含了一种initial algorithm区域来实现这种功能。initial algorithm区域的作用可以类比前面在初始化讨论过的initial equation区域。正如initial equation一样，initial algorithm只会在初始化阶段确定初始化条件时有效，但这种区域支持多次赋值。前述关于符号操作的警告仍然有效。"
   ]
  },
  {
   "cell_type": "code",
   "execution_count": null,
   "metadata": {
    "collapsed": true
   },
   "outputs": [],
   "source": []
  }
 ],
 "metadata": {
  "anaconda-cloud": {},
  "kernelspec": {
   "display_name": "Python 3",
   "language": "python",
   "name": "python3"
  },
  "language_info": {
   "codemirror_mode": {
    "name": "ipython",
    "version": 3
   },
   "file_extension": ".py",
   "mimetype": "text/x-python",
   "name": "python",
   "nbconvert_exporter": "python",
   "pygments_lexer": "ipython3",
   "version": "3.6.4"
  }
 },
 "nbformat": 4,
 "nbformat_minor": 2
}
