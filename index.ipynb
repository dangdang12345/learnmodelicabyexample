{
 "cells": [
  {
   "cell_type": "markdown",
   "metadata": {},
   "source": [
    "![Python + GestaltReVision logo](logo.png)"
   ]
  },
  {
   "cell_type": "markdown",
   "metadata": {},
   "source": [
    "# Learn Modelica by Example"
   ]
  },
  {
   "cell_type": "markdown",
   "metadata": {},
   "source": [
    "欢迎来到本课程学习，本教程主要依据Modelica的在线教材Mdoelica by Example( [English Version](http://book.xogeny.com)    [中文版](http://book.xogeny.com/cn/) )编写.\n",
    "\n",
    "如果发现任何问题请及时反馈给我们\n",
    "Please report any bugs or share ideas on our [GitHub repo](https://github.com/gestaltrevision/python_for_visres/issues)."
   ]
  },
  {
   "cell_type": "markdown",
   "metadata": {},
   "source": [
    "# 课程目录"
   ]
  },
  {
   "cell_type": "markdown",
   "metadata": {},
   "source": [
    "1. [基本方程](1-Basic Equation/基本方程.ipynb)\n",
    "2. [离散行为](2-Discrete behavior/离散行为.ipynb)\n",
    "3. [向量与数组](3-Vector and array/向量与数组.ipynb)\n",
    "4. [函数](4-Functions/函数.ipynb)\n",
    "5. [包管理](5-Package/包管理.ipynb)\n",
    "6. [连接器](6-Connector/连接器.ipynb)\n",
    "7. [部件模型](7-Components/Components.ipynb)\n",
    "8. [子系统](8-Subsystem/Subsystem.ipynb)\n",
    "9. [架构模型](9-Architectures/Architectures.ipynb)"
   ]
  },
  {
   "cell_type": "markdown",
   "metadata": {},
   "source": [
    "# 本Notebook目录"
   ]
  },
  {
   "cell_type": "markdown",
   "metadata": {},
   "source": [
    "- [What you'll need](#What-you'll-need)\n",
    "  - [Tutorial code](#Tutorial-code)\n",
    "- [Checking your installation](#Checking-your-installation)\n",
    "- [Getting started](#Getting-started)\n",
    "  - [Opening IPython notebooks](#Opening-IPython-notebooks)\n",
    "    - [Windows](#Windows)\n",
    "    - [Mac OS / Linux](#Mac-OS-/-Linux)\n",
    "    - [Then:](#Then:)\n",
    "  - [Editing Python scripts](#Editing-Python-scripts)"
   ]
  },
  {
   "cell_type": "markdown",
   "metadata": {},
   "source": [
    "# 需要环境"
   ]
  },
  {
   "cell_type": "markdown",
   "metadata": {},
   "source": [
    "Unfortunately, getting Python and all necessary packages is one of the major difficulties for beginners. So please be patient and try to get everything in order because once you get it running, magic can start."
   ]
  },
  {
   "cell_type": "markdown",
   "metadata": {},
   "source": [
    "# Getting started"
   ]
  },
  {
   "cell_type": "markdown",
   "metadata": {},
   "source": [
    "## 打开 Jupyter notebooks"
   ]
  },
  {
   "cell_type": "markdown",
   "metadata": {},
   "source": [
    "### Windows\n",
    "1. Open command-line (``Start button > Type cmd > Enter``)\n",
    "2. Navigate to the folder where the IPython notebook is using the ``cd`` command\n",
    "    e.g. ``cd x:\\download\\learnmodelicabyexample``.  \n",
    "3. Type ``ipython notebook`` and hit enter. A new tab on your default browser should open with notebook choices listed. Doesn't work properly? Make sure you're not using an outdated or ridiculous browser (like some old Internet Explorer).\n",
    "2. Click on the notebook you want to open and play with."
   ]
  },
  {
   "cell_type": "markdown",
   "metadata": {},
   "source": [
    "### Mac OS / Linux\n",
    "1. Open command line (look for ``Terminal.app`` or `xterm`, or similar)\n",
    "2. Navigate to the folder where the IPython notebook is using the ``cd`` command, e.g. ``cd ~/learnmodelicabyexample``.\n",
    "1. Type ``ipython notebook`` and hit enter. A new tab on your default browser should open with notebook choices listed. Doesn't work properly? Make sure you're not using an outdated or ridiculous browser (like some old Internet Explorer).\n",
    "2. Click on the notebook you want to open and play with."
   ]
  }
 ],
 "metadata": {
  "kernelspec": {
   "display_name": "Python 3",
   "language": "python",
   "name": "python3"
  },
  "language_info": {
   "codemirror_mode": {
    "name": "ipython",
    "version": 3
   },
   "file_extension": ".py",
   "mimetype": "text/x-python",
   "name": "python",
   "nbconvert_exporter": "python",
   "pygments_lexer": "ipython3",
   "version": "3.6.4"
  }
 },
 "nbformat": 4,
 "nbformat_minor": 1
}
