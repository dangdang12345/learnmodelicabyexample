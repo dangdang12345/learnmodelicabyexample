{
 "cells": [
  {
   "cell_type": "markdown",
   "metadata": {},
   "source": [
    "# Learn Modelica by Example"
   ]
  },
  {
   "cell_type": "markdown",
   "metadata": {},
   "source": [
    "欢迎来到本课程学习，本教程主要依据Modelica的在线教材Mdoelica by Example( [English Version](http://book.xogeny.com)    [中文版](http://book.xogeny.com/cn/) )编写.\n",
    "\n",
    "如果发现任何问题请及时反馈给我们\n",
    "Please report any bugs or share ideas on our [GitHub repo](https://github.com/wushuaibuaa/learnmodelicabyexample/issues)."
   ]
  },
  {
   "cell_type": "markdown",
   "metadata": {},
   "source": [
    "# 课程目录"
   ]
  },
  {
   "cell_type": "markdown",
   "metadata": {},
   "source": [
    "1. [基本方程](1-BasicEquation/基本方程.ipynb)\n",
    "2. [离散行为](2-Discretebehavior/离散行为.ipynb)\n",
    "3. [向量与数组](3-Vectorandarray/向量与数组.ipynb)\n",
    "4. [函数](4-Functions/函数.ipynb)\n",
    "5. [包管理](5-Package/包管理.ipynb)\n",
    "6. [连接器](6-Connector/连接器.ipynb)\n",
    "7. [部件模型](7-Components/Components.ipynb)\n",
    "8. [子系统](8-Subsystem/Subsystem.ipynb)\n",
    "9. [架构模型](9-Architectures/Architectures.ipynb)"
   ]
  },
  {
   "cell_type": "markdown",
   "metadata": {},
   "source": [
    "# 需要环境"
   ]
  },
  {
   "cell_type": "markdown",
   "metadata": {},
   "source": [
    "本课件采用Jupyter Notebook编写，下载课件到本地查看需要安装Jupyter Notebook。"
   ]
  },
  {
   "cell_type": "markdown",
   "metadata": {},
   "source": [
    "## 采用Jupyter notebooks打开课件"
   ]
  },
  {
   "cell_type": "markdown",
   "metadata": {},
   "source": [
    "### Windows\n",
    "1. 打开命令行窗口 (``Start button > Type cmd > Enter``)\n",
    "2. 进入课件所在的目录，采用 ``cd``命令\n",
    "    比如，课件目录在``x:\\download\\learnmodelicabyexample``，进入的命令 ``cd x:\\download\\learnmodelicabyexample``.  \n",
    "3. 输入 ``ipython notebook`` 然后点击回车，默认浏览器会打开一个页面，列出目录中的文件。\n",
    "4. 点击想要看的notebook文件即可."
   ]
  },
  {
   "cell_type": "markdown",
   "metadata": {},
   "source": [
    "### Mac OS / Linux\n",
    "1. 打开命令行窗口 (如``Terminal.app`` 或者 `xterm`, 或者类似的)\n",
    "2. 进入课件所在的目录，采用  ``cd`` 命令,  比如，``cd ~/learnmodelicabyexample``.\n",
    "3. 输入 ``ipython notebook`` 然后点击回车，默认浏览器会打开一个页面，列出目录中的文件\n",
    "4. 点击想要看的notebook文件即可."
   ]
  },
  {
   "cell_type": "code",
   "execution_count": null,
   "metadata": {},
   "outputs": [],
   "source": []
  }
 ],
 "metadata": {
  "kernelspec": {
   "display_name": "Python 3",
   "language": "python",
   "name": "python3"
  },
  "language_info": {
   "codemirror_mode": {
    "name": "ipython",
    "version": 3
   },
   "file_extension": ".py",
   "mimetype": "text/x-python",
   "name": "python",
   "nbconvert_exporter": "python",
   "pygments_lexer": "ipython3",
   "version": "3.7.4"
  }
 },
 "nbformat": 4,
 "nbformat_minor": 2
}
