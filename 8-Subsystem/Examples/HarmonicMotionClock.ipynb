{
 "cells": [
  {
   "cell_type": "markdown",
   "metadata": {},
   "source": [
    "# 钟摆的间谐运动\n",
    "\n",
    "在这一节中，我们将重新创建一个涉及摆的有趣实验。如果我们创建了具有不同固有频率的一系列摆，并让其在相同的位置开始运动。我们将看到它们会在不同的频率产生振荡。但是，如果我们从系统中删除所有能量耗散，所有的摆最终将在其最初的位置“团聚”。\n",
    "\n",
    "一般来说，这些“团聚”事件间的周期为是系统中所有摆周期的最小公倍数。我们可以通过选择摆的长度来实现一个特定的“团圆”周期。\n",
    "\n",
    "## 钟摆模式\n",
    "\n",
    "在本节中，我们可以像空间分布的传热的例子一样用组件数组来建立子系统模型。但在创建摆的数组之前，我们需要先有一个单摆的模型。\n",
    "```Modelica\n",
    "within ModelicaByExample.Subsystems.Pendula;\n",
    "model Pendulum \"A single individual pendulum\"\n",
    "  import Modelica.Mechanics.MultiBody.Parts;\n",
    "  import Modelica.Mechanics.MultiBody.Joints;\n",
    "\n",
    "  parameter Modelica.SIunits.Position x;\n",
    "  parameter Modelica.SIunits.Mass m \"Mass of mass point\";\n",
    "  parameter Modelica.SIunits.Angle phi \"Initial angle\";\n",
    "  parameter Modelica.SIunits.Length L \"String length\";\n",
    "  parameter Modelica.SIunits.Diameter d=0.01;\n",
    "\n",
    "  Parts.Fixed ground(r={0,0,x}, animation=false)\n",
    "    annotation (Placement(\n",
    "        transformation(\n",
    "        extent={{-10,-10},{10,10}},\n",
    "        rotation=270, origin={0,60})));\n",
    "  Parts.PointMass ball(m=m, sphereDiameter=5*d)\n",
    "    annotation (Placement(transformation(extent={{-10,-90},{10,-70}})));\n",
    "  Parts.BodyCylinder string(density=0, r={0,L,0}, diameter=d)\n",
    "    annotation (Placement(transformation(\n",
    "        extent={{-10,-10},{10,10}},\n",
    "        rotation=90,\n",
    "        origin={0,-30})));\n",
    "  Joints.Revolute revolute(phi(fixed=true, start=phi),\n",
    "    cylinderDiameter=d/2, animation=false)\n",
    "    annotation (Placement(\n",
    "        transformation(\n",
    "        extent={{-10,-10},{10,10}},\n",
    "        rotation=90,\n",
    "        origin={0,20})));\n",
    "equation\n",
    "  connect(string.frame_a, ball.frame_a) annotation (Line(\n",
    "      points={{0,-40},{0,-40},{0,-80}},\n",
    "      color={95,95,95},\n",
    "      thickness=0.5,\n",
    "      smooth=Smooth.None));\n",
    "  connect(revolute.frame_b, ground.frame_b) annotation (Line(\n",
    "      points={{0,30},{0,40},{0,40},{0,50}},\n",
    "      color={95,95,95},\n",
    "      thickness=0.5,\n",
    "      smooth=Smooth.None));\n",
    "  connect(revolute.frame_a, string.frame_b) annotation (Line(\n",
    "      points={{0,10},{0,10},{0,-20},{0,-20}},\n",
    "      color={95,95,95},\n",
    "      thickness=0.5,\n",
    "      smooth=Smooth.None));\n",
    "end Pendulum;\n",
    "```\n",
    "\n",
    "摆的组件显示如下：\n",
    "\n",
    "<img src=\"./figures8/Pendulum.svg\" width=800 align=center>\n"
   ]
  },
  {
   "cell_type": "markdown",
   "metadata": {},
   "source": [
    "## 系统模型\n",
    "\n",
    "现在，有了单独的摆模型，我们就可以建立钟摆组成的系统。如果我们想要一个有$n$个摆的系统，而系统的完整周期为$T$秒。而第$i$个摆的长度可以用如下方式计算：\n",
    "\n",
    "$$l_i = g_n\\frac{T}{2\\pi(X+(n-i))}$$\n",
    "\n",
    "其中$g_n$是地球的引力常数。$n$是钟摆的数量。$T$是该系统完整循环的周期。而$X$是最长的摆锤在$T$秒的振荡次数。\n",
    "\n",
    "Modelica里我们可以建立上述系统，如下：\n",
    "```Modelica\n",
    "within ModelicaByExample.Subsystems.Pendula;\n",
    "model System \"A system of pendula\"\n",
    "  import Modelica.Constants.g_n;\n",
    "  import Modelica.Constants.pi;\n",
    "\n",
    "  parameter Integer n=15 \"Number of pendula\";\n",
    "  parameter Modelica.SIunits.Position x[n] = linspace(0,(n-1)*0.05,n);\n",
    "  parameter Modelica.SIunits.Time T = 54;\n",
    "  parameter Modelica.SIunits.Time X = 30;\n",
    "  parameter Modelica.SIunits.Length lengths[n] = { g_n*(T/(2*pi*(X+(n-i))))^2 for i in 1:n};\n",
    "  parameter Modelica.SIunits.Angle phi0 = 0.5;\n",
    "\n",
    "  Pendulum pendulum[n](x=x, each m=1, each phi=phi0, L=lengths)\n",
    "    annotation (Placement(transformation(extent={{-10,-10},{10,10}})));\n",
    "  inner Modelica.Mechanics.MultiBody.World world\n",
    "    annotation (Placement(transformation(extent={{-80,-60},{-60,-40}})));\n",
    "end System;\n",
    "```\n",
    "\n",
    "以下声明特别值得关注：\n",
    "```Modelica\n",
    "Pendulum pendulum[n](x=x, each m=1, each phi=phi0, L=lengths)\n",
    "```\n",
    "因为pendulum是有n个分量的数组，将有n个x、m、phi和L这些与摆相关的参数。举个例子，如果n=3，那么模型的x将有3个值：pendulum[1].x、pendulum[2].x和pendulum[3].x。在pendulum声明里，我们以不同方式对不同参数进行处理。对于m，我们使用each m=1为每个钟摆赋相同的值。然而，对于L（和x），我们提供数组以进行赋值。而lengths数组中的值使用前面介绍的钟摆长度公式来计算。我们将在本章后面更完整地讨论如何将修改应用到组件数组。\n",
    "\n",
    "如果对上述系统进行仿真，我们可以得到各摆轨迹的解。所有摆在每过54秒后都会回到初始位置。"
   ]
  },
  {
   "cell_type": "code",
   "execution_count": 1,
   "metadata": {
    "collapsed": false
   },
   "outputs": [
    {
     "data": {
      "text/html": [
       "<video src=\"./figures8/Experiment in Harmonic Motion.mp4\" controls>\n",
       "      Your browser does not support the <code>video</code> element.\n",
       "    </video>"
      ],
      "text/plain": [
       "<IPython.core.display.Video object>"
      ]
     },
     "metadata": {},
     "output_type": "display_data"
    }
   ],
   "source": [
    "from IPython.display import Video\n",
    "from IPython.display import display\n",
    "vid = Video(\"./figures8/Experiment in Harmonic Motion.mp4\")\n",
    "display(vid)"
   ]
  },
  {
   "cell_type": "markdown",
   "metadata": {},
   "source": [
    "## 结论\n",
    "\n",
    "本节中，我们看到了如何才能使用、声明和修改组件数组。在本节的例子里，这允许我们指定系统内摆的数目并进行仿真。目的是观察这些摆在应用由前述方程式指定的不同长度时的特别行为。"
   ]
  },
  {
   "cell_type": "code",
   "execution_count": null,
   "metadata": {
    "collapsed": true
   },
   "outputs": [],
   "source": []
  }
 ],
 "metadata": {
  "kernelspec": {
   "display_name": "Python 3",
   "language": "python",
   "name": "python3"
  },
  "language_info": {
   "codemirror_mode": {
    "name": "ipython",
    "version": 3
   },
   "file_extension": ".py",
   "mimetype": "text/x-python",
   "name": "python",
   "nbconvert_exporter": "python",
   "pygments_lexer": "ipython3",
   "version": "3.6.4"
  }
 },
 "nbformat": 4,
 "nbformat_minor": 2
}
