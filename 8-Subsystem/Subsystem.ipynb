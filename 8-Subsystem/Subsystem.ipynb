{
 "cells": [
  {
   "cell_type": "markdown",
   "metadata": {},
   "source": [
    "# 子系统\n",
    "\n",
    "## 示例\n",
    "\n",
    "\n",
    "> [齿轮总成](./Examples/GearSystem.ipynb)\n",
    "\n",
    "> [直流电源](./Examples/DC%20power.ipynb)\n",
    "\n",
    "> [空间分布的传热](./Examples/DistributionThermal.ipynb)\n",
    "\n",
    "> [钟摆的间谐运动](./Examples/HarmonicMotionClock.ipynb)\n",
    "\n",
    "> [带迁移的掠食者猎物方程](./Examples/Hunter%20and%20prey%20with%20migrate.ipynb)\n",
    "\n",
    "\n",
    "\n",
    "\n",
    "## 回顾\n",
    "\n",
    "\n",
    "> [子系统接口](./Review/SubsystemInterface.ipynb)\n",
    "\n",
    "> [组件数组](./Review/ComponentArray.ipynb)\n",
    "\n",
    "> [修改语句](./Review/ModifySquence.ipynb)\n",
    "\n",
    "> [传值](./Review/PassValue.ipynb)"
   ]
  },
  {
   "cell_type": "code",
   "execution_count": null,
   "metadata": {},
   "outputs": [],
   "source": []
  }
 ],
 "metadata": {
  "anaconda-cloud": {},
  "kernelspec": {
   "display_name": "Python 3",
   "language": "python",
   "name": "python3"
  },
  "language_info": {
   "codemirror_mode": {
    "name": "ipython",
    "version": 3
   },
   "file_extension": ".py",
   "mimetype": "text/x-python",
   "name": "python",
   "nbconvert_exporter": "python",
   "pygments_lexer": "ipython3",
   "version": "3.6.4"
  }
 },
 "nbformat": 4,
 "nbformat_minor": 2
}
