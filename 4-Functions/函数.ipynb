{
 "cells": [
  {
   "cell_type": "markdown",
   "metadata": {},
   "source": [
    "# 函数\n",
    "\n",
    ">到现在为止，我们已经在前面的例子中使用了Modelica语言的许多内置函数。尤其是在我们对数组函数的讨论里。虽然Modelica对于很多常见运算包含了广泛一系列函数，但用户仍然需要有办法去自定义函数。本章的中心议题是定义函数所需的流程。\n",
    "\n",
    ">和往常一样，我们开始时将讨论几个例子。其目的是让用户明白，我们为何需要自定义函数。然后，我们会回顾Modelica用户自定义函数的重要组成部分。\n",
    "\n",
    "## 示例\n",
    "\n",
    "> [多项式计算](./Examples/Polynomial calculation.ipynb)\n",
    "\n",
    "> [插值](./Examples/Interpolation.ipynb)\n",
    "\n",
    "> [软件在环（SiL）控制器](./Examples/SiL.ipynb)\n",
    "\n",
    "> [非线性](./Examples/Nonlinearity.ipynb)\n",
    "\n",
    "\n",
    "\n",
    "## 回顾\n",
    "\n",
    "\n",
    "> [函数定义](./Review/Function definition.ipynb)\n",
    "\n",
    "> [控制流程](./Review/Control process.ipynb)\n",
    "\n",
    "> [外部函数](./Review/External functions.ipynb)\n",
    "\n",
    "> [函数标注](./Review/Function annotation.ipynb)\n",
    "\n",
    "\n"
   ]
  }
 ],
 "metadata": {
  "anaconda-cloud": {},
  "kernelspec": {
   "display_name": "Python 3",
   "language": "python",
   "name": "python3"
  },
  "language_info": {
   "codemirror_mode": {
    "name": "ipython",
    "version": 3
   },
   "file_extension": ".py",
   "mimetype": "text/x-python",
   "name": "python",
   "nbconvert_exporter": "python",
   "pygments_lexer": "ipython3",
   "version": "3.6.0"
  }
 },
 "nbformat": 4,
 "nbformat_minor": 1
}
