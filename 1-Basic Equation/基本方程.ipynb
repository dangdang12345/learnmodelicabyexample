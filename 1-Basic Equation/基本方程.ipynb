{
 "cells": [
  {
   "cell_type": "markdown",
   "metadata": {},
   "source": [
    "# 基本方程\n",
    "\n",
    "> 本章中，我们会以理解基本方程的实现来开始我们对Modelica的探索，重点在于展示如何编写基本方程。\n",
    "\n",
    "\n",
    "## 示例\n",
    "\n",
    "> [简单的一阶系统](./Examples/A simple first order system.ipynb)\n",
    "\n",
    "> [引入物理](./Examples/Physics.ipynb)\n",
    "\n",
    "> [电气实例](./Examples/Electrical example.ipynb)\n",
    "\n",
    "> [机械示例](./Examples/Mechanical example.ipynb)\n",
    "\n",
    "> [猎食者猎物系统](./Examples/Predator-Prey system.ipynb)\n",
    "\n",
    "\n",
    "## 回顾\n",
    "\n",
    "本章第一部分通过实例介绍了一些语言特性。而这部分会回顾各种特性和概念，并对每一个主题提供更完整的讨论。\n",
    "\n",
    "> [模型定义](./Review/Model definition.ipynb)\n",
    "\n",
    "> [变量](./Review/Variable.ipynb)\n",
    "\n",
    "> [方程](./Review/Equation.ipynb)\n",
    "\n",
    "> [初始化](./Review/Initialization.ipynb)\n",
    "\n",
    "> [Record类型定义](./Review/Record type definition.ipynb)\n",
    "\n",
    "> [标注](./Review/Record type definition.ipynb)\n",
    "\n"
   ]
  },
  {
   "cell_type": "code",
   "execution_count": null,
   "metadata": {
    "collapsed": true
   },
   "outputs": [],
   "source": []
  }
 ],
 "metadata": {
  "anaconda-cloud": {},
  "kernelspec": {
   "display_name": "Python [default]",
   "language": "python",
   "name": "python3"
  },
  "language_info": {
   "codemirror_mode": {
    "name": "ipython",
    "version": 3
   },
   "file_extension": ".py",
   "mimetype": "text/x-python",
   "name": "python",
   "nbconvert_exporter": "python",
   "pygments_lexer": "ipython3",
   "version": "3.5.2"
  }
 },
 "nbformat": 4,
 "nbformat_minor": 1
}
