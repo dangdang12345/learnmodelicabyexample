{
 "cells": [
  {
   "cell_type": "markdown",
   "metadata": {},
   "source": [
    "# 变量\n",
    "***\n",
    "正如我们在前一节中所提到的，模型定义的特征之一就是包含变量声明。变量声明的基本语法就是在变量的“类型”（将在内建类型章节中简短讨论）之后紧随变量的名称，\n",
    "\n",
    "```Modelica\n",
    "Real x;\n",
    "```\n",
    "\n",
    "相同类型的变量可以组合在一起使用下面的语法：\n",
    "\n",
    "```Modelica\n",
    "Real x, y;\n",
    "```\n",
    "\n",
    "变量声明也可以跟随在描述的后面。\n",
    "\n",
    "```Modelica\n",
    "Real alpha \"angular acceleration\";\n",
    "```\n"
   ]
  },
  {
   "cell_type": "markdown",
   "metadata": {},
   "source": [
    "## 可变性\n",
    "\n",
    "### 参数\n",
    "\n",
    "模型中的变量声明默认假定为连续变量（连续型变量的解通常是连续的，但是也可能包含间断点）。然而，正如在引入物理那节中提到的，能够在变量声明前加入**parameter（参数）**限定词，以表明该变量是事先已知的。我们可以认为这个参数作为模型的“输入数据”，是不随时间变化的常数。\n",
    "\n",
    "### 常数\n",
    "\n",
    "与**parameter（参数）**限定符关系密切的是**constant（常数）**限定词。当被置于变量声明前，constant（常数）限定符意味着变量的值是事先已知的常数，且不随时间变化。这两者之间的区别在于一旦模型被编译，**parameter限定词的值是可以随着模拟改变而改变的，但是constant限定词的值是不会改变的**。对于模型开发者来说，constant限定词的应用是保证终端用户者不能更改该constant。constant限定词经常被用于代表物理常数。比如像数学中的$\\pi$或者重力加速度这样在大多数工程仿真中被假定为常数的量。\n",
    "\n",
    "### 离散变量\n",
    "\n",
    "另外一种可以放在变量声明前的限定词是**discrete（离散）**限定词。目前还没有相关的例子可以演示discrete限定词的作用。但为了完整起见，它作为最后一个可变性限定词也列举在这里。"
   ]
  },
  {
   "cell_type": "markdown",
   "metadata": {},
   "source": [
    "## 内建类型\n",
    "\n",
    "目前为止，很多例子声明变量的时候引用**Real（实数）类型**。顾名思义，Real用于代表实数变量（实数变量在Modelica编译器中通常被编译为浮点数）。然而，Real仅仅是Modelica语言的四大内置类型之一。\n",
    "\n",
    "另外一种内置类型是**Integer（整数）类型**。这种类型用于代表整数值。Integer变量有许多用途，包括代表数组的大小（这种用途的例子将在向量与数组这节中讨论）。\n",
    "\n",
    "其他内置类型是**Boolean（布尔值）**（用于代表值的true（真）或false（假））和String（用于代表字符串）。\n",
    "\n",
    "每一个内置类型都限定了变量值的可能值。显然，Integer变量不能是2.5。Boolean或者String（字符）不能是7。Real变量不能是\"Hello\"。"
   ]
  },
  {
   "cell_type": "markdown",
   "metadata": {},
   "source": [
    "## 派生类型\n",
    "\n",
    "正如前面介绍物理类型的例子一样，内置类型可以进行“特殊化”。这个特性主要是**用于修改与属性相关的值，比如unit**。用于创建派生类型的语法是：\n",
    "\n",
    "```Modelica\n",
    "type NewTypeName = BaseTypeName(/* attributes to be modified */);\n",
    "```\n",
    "\n",
    "BaseTypeName（基本类型名称）一般为内置类型（比如Real（实数））。但是它也可以是另外一种派生类型。这意味着多层次的限定也是支持的。例如：\n",
    "\n",
    "```Modelica\n",
    "type Temperature = Real(unit=\"K\"); // Could be a temperature difference\n",
    "type AbsoluteTemperature = Temperature(min=0); // Must be positive\n",
    "```"
   ]
  },
  {
   "cell_type": "markdown",
   "metadata": {},
   "source": [
    "## 枚举类型\n",
    "\n",
    "**enumeration（枚举）**类型和**Integer**类型非常类似。enumeration类型通常用于定义一组有限的特定值。事实上，枚举类型在语言上不是必须的。enumeration类型的值总是可以用整数替代。但是enumeration类型却比Integer类型更安全和合理。\n",
    "\n",
    "在Modelica中有**两种内置的枚举类型**。第一种是AssertionLevel（断言级别）。其定义如下：\n",
    "\n",
    "```Modelica\n",
    "type AssertionLevel = enumeration(warning, error);\n",
    "```\n",
    "\n",
    "这些值的用处将在接下来的assert这节中讨论。\n",
    "\n",
    "另外一种内置枚举类型是StateSelect（状态选择），其定义如下：\n",
    "\n",
    "```Modelica\n",
    "type StateSelect = enumeration(never, avoid, default, prefer, always);\n",
    "```"
   ]
  },
  {
   "cell_type": "markdown",
   "metadata": {},
   "source": [
    "## 修改语句\n",
    "\n",
    "目前为止，本书只介绍了有两种修改语句类型。第一种是用于修改属性值，例如：\n",
    "\n",
    "```Modelica\n",
    "Real x(start=10);\n",
    "```\n",
    "\n",
    "在这个例子中，创建了一个实数类型的变量$x$。但是我们不打算直接使用这个变量。我们对$x$加入修改语句。在这里，我们修改$x$的start属性。这仅仅只是进入$x$的第一层做修改。在接下来的例子中，我们会在任意深度对$x$做修改。\n",
    "\n",
    "另一种修改是在避免重复那节中。此时修改语句是和扩展条款连接在一起的。例如：\n",
    "\n",
    "```Modelica\n",
    "extends QuiescentModelWithInheritance(gamma=0.3, delta=0.01);\n",
    "```\n",
    "\n",
    "在这里，修改语句作用在继承自QuiescentModelWithInheritance模型的部件上。和修改属性时一样，受修改的（模型）元件后带有括号。而所希望的修改则正正在括号中。\n",
    "\n",
    "值得注意的是，修改语句可以任意嵌套。例如，我们可以修改来自于模型QuiescentModelWithInheritance变量x中的start属性，在Modelica中，这种修改语句如下：\n",
    "\n",
    "```Modelica\n",
    "extends QuiescentModelWithInheritance(x(start=5));\n",
    "```\n",
    "\n",
    "在这里，首先“进入”模型QuiescentModelWithInheritance修改（从$x$中“继承”的）内容。然后，再“进入”$x$修改start属性的值。\n",
    "\n",
    "Modelica的核心主题之一是支持重用而避免“复制和粘贴”代码。而修改语句就是Modeliaca中支持重用的基本特性。在后面的章节中将会学习其他支持重用的特性。"
   ]
  },
  {
   "cell_type": "code",
   "execution_count": null,
   "metadata": {
    "collapsed": true
   },
   "outputs": [],
   "source": []
  }
 ],
 "metadata": {
  "anaconda-cloud": {},
  "kernelspec": {
   "display_name": "Python 3",
   "language": "python",
   "name": "python3"
  },
  "language_info": {
   "codemirror_mode": {
    "name": "ipython",
    "version": 3
   },
   "file_extension": ".py",
   "mimetype": "text/x-python",
   "name": "python",
   "nbconvert_exporter": "python",
   "pygments_lexer": "ipython3",
   "version": "3.6.0"
  }
 },
 "nbformat": 4,
 "nbformat_minor": 0
}
