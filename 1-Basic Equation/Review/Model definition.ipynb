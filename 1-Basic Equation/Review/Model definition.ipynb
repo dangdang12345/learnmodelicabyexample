{
 "cells": [
  {
   "cell_type": "markdown",
   "metadata": {},
   "source": [
    "# 模型定义\n",
    "***\n",
    "## 模型定义的语法\n",
    "\n",
    "正如我们在本章中看到的，模型定义首先是模型关键词。其次是模型的名字（或者是模型的描述）。模型的名字必须以字母开头，后面可以是字母、数字或者下划线。\n",
    "\n",
    "\n",
    ">### 命名约定\n",
    ">尽管Modelica语言并没有对此进行严格要求，但一般约定模型名字以大写字母开头。大多数开发者使用所谓的“驼峰式”规则，即模型内每个单词首字母为大写。\n",
    "\n",
    "模型定义包含变量和方程（稍后讨论）。end关键词以及紧随的模型名字的重复出现标志着模型的结束。//之后直至该行结束出现的任何文本，以及在分隔符/\\*和 \\*/之间的文本都是模型的注释。\n",
    "\n",
    "总之，模型定义具有如下一般形式：\n",
    "\n",
    "```Modelica\n",
    "model SomeModelName \"An optional description\"\n",
    "  // By convention, variables are listed at the start\n",
    "equation\n",
    "  /* And equations are listed at the end */\n",
    "end SomeModelName;\n",
    "```"
   ]
  },
  {
   "cell_type": "markdown",
   "metadata": {},
   "source": [
    "## 继承\n",
    "\n",
    "正如我们在避免重复这个部分提到的一样，我们可以在当前模型中添加extends子句，以此使用其他模型中的代码。另外值得注意的是，模型定义中可以**包含多个extends子句**。\n",
    "\n",
    "**每个extends子句必须包含被引用模型的名字**。该子句也可以加上对于被引用模型的**修改语句**。对于继承其他模型的模型定义，你可以看到如下的通用语法：\n",
    "\n",
    "```Modelica\n",
    " model SpecializedModelName \"An optional description\"\n",
    "   extends Model1; // No modifications\n",
    "   extends Model2(n=5); // Including modification\n",
    "   // By convention, variables are listed at the start\n",
    " equation\n",
    "   /* And equations are listed at the end */\n",
    "end SpecializedModelName;\n",
    "```\n",
    "按照惯例，**extends子句通常列在模型定义最上方，在任何变量之前**。\n",
    "\n",
    "在后面的章节中，我们会展示上述语法如何用来定义除了模型之外的其他实体。但是，我们目前的重点是模型。"
   ]
  },
  {
   "cell_type": "markdown",
   "metadata": {},
   "source": []
  }
 ],
 "metadata": {
  "kernelspec": {
   "display_name": "Python 3",
   "language": "python",
   "name": "python3"
  },
  "language_info": {
   "codemirror_mode": {
    "name": "ipython",
    "version": 3
   },
   "file_extension": ".py",
   "mimetype": "text/x-python",
   "name": "python",
   "nbconvert_exporter": "python",
   "pygments_lexer": "ipython3",
   "version": "3.6.4"
  }
 },
 "nbformat": 4,
 "nbformat_minor": 1
}
