{
 "cells": [
  {
   "cell_type": "markdown",
   "metadata": {},
   "source": [
    "# 数组声明\n",
    "*** \n",
    "\n",
    "## 语法\n",
    "\n",
    "数组声明的语法很简单。除了在变量名之后应标以指定数组各维度的大小外，语法与正常变量声明是相同的。数组声明的一般形式为：\n",
    "\n",
    "```Modelica\n",
    "VariableType varName[dim1, dim2, ..., dimN];\n",
    "```\n",
    "\n",
    "其中VariableType是一个Modelica类型，如：Real或Integer。varName为变量名称。\n",
    "\n",
    "\n",
    "## 整数大小\n",
    "\n",
    "通常情况下，维度定义仅仅是表明该维度的大小的整数。例如：\n",
    "\n",
    "```Modelica\n",
    "Real x[5];\n",
    "```\n",
    "\n",
    "在这种情况下，x是实数型数组。而这个数组仅有大小为5的一个维度。使用参数或常量去指定数组大小也是可以的，如：\n",
    "\n",
    "```Modelica\n",
    "parameter Integer d1=5;\n",
    "constant Integer d2=2;\n",
    "Real x[d1, d2];\n",
    "```\n",
    "\n",
    "## 相关维度\n",
    "\n",
    "在后面讨论Modelica内的数组函数时，我们就会看到，我们甚至可以使用size函数去用一个数组的大小定义另外一个的大小。请考虑以下声明：\n",
    "\n",
    "```Modelica\n",
    "Real x[5];\n",
    "Real y[size(x,1)];\n",
    "```\n",
    "\n",
    "在这种情况下，y将拥有大小为5的一个维度。函数size(x,1)会返回数组x第1维度的大小。在许多应用里，以这种方式表达不同数组维度间的关系是很有用的（例如，为确保数组总有正确的大小以进行矩阵乘法等操作）。\n",
    "\n",
    "\n",
    "## 未定义维度\n",
    "\n",
    "一些情况下，我们可以不定义数组的大小，让其大小可以在后来的某些情景里确定。例如，我们会在讨论一些有向量参数的函数时看到这样的例子。\n",
    "\n",
    "为了表明数组某个特定维数的大小（还）仍为未知，我们可以使用：符号作为维度的大小。所以，在如下的声明里：\n",
    "\n",
    "```Modelica\n",
    "Real A[:,2];\n",
    "```\n",
    "\n",
    "我们定义了一个二维数组。第一维的大小没有被定义。而第二维的大小明确被指定为2。实际上，我们已经声明了A为一个行数不详而有两列的矩阵。\n",
    "\n",
    "\n",
    "## 非整数维度\n",
    "\n",
    "### 枚举类\n",
    "\n",
    "正如我们在化学系统例子内看到的，另一种指定维度的方法是用枚举。如果用枚举指定一个维度，则该维度的大小将等于该枚举可能值的总数目。在即将到来的关于数组索引的讨论里，我们将看到正确地索引一个使用枚举作为维数的数组。\n",
    "\n",
    "\n",
    "### 布尔值\n",
    "\n",
    "我们还可以将其中一个维度声明为Boolean，例如：\n",
    "\n",
    "```Modelica\n",
    "Real x[Boolean];\n",
    "```"
   ]
  },
  {
   "cell_type": "code",
   "execution_count": null,
   "metadata": {
    "collapsed": true
   },
   "outputs": [],
   "source": []
  }
 ],
 "metadata": {
  "kernelspec": {
   "display_name": "Python 3",
   "language": "python",
   "name": "python3"
  },
  "language_info": {
   "codemirror_mode": {
    "name": "ipython",
    "version": 3
   },
   "file_extension": ".py",
   "mimetype": "text/x-python",
   "name": "python",
   "nbconvert_exporter": "python",
   "pygments_lexer": "ipython3",
   "version": "3.6.4"
  }
 },
 "nbformat": 4,
 "nbformat_minor": 2
}
