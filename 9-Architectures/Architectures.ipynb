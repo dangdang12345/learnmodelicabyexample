{
 "cells": [
  {
   "cell_type": "markdown",
   "metadata": {},
   "source": [
    "# 架构模型\n",
    "-------------------------\n",
    "在本书的开头，我们讨论了表述方程式并将其转化为仿真模型,仅仅是这一点就非常有趣了。原因是，我们不再需要当心如何去解由此得到的线性或非线性方程组，也不需要考虑对生成的微分方程组进行积分。然而，将复杂系统表述成一条条的方程并不是一种可扩展的方案。\n",
    "\n",
    "因此，我们会探索Modelica里一些用以创建部件模型的特性。我们可以用上述特性重用这些方程，而不再需要在每次使用的时候将其重写一遍。这种做法不仅让以我们可以把预先创建的（且多半是测试过的）部件模型组合为系统，而且可以通过Modelica的标准图形标注支持用图形化方式组合和表示系统。\n",
    "\n",
    "--------------------------\n",
    "这种方法同样会有可扩展性问题。原因是用部件进行复杂建模需要大量的拖拽以及连接部件的操作。再者，在没有任何层级的情况下系统模型会变得庞大而复杂。这又在另一个层面限制可扩展性。为了解决这一问题，我们不考虑如何将可重用的方程组成模型，而是定义包含可重用子系统组成的模型。这种做法减少了在构建复杂系统模型时的所需的大量的拖拽以及连接部件的操作。\n",
    "\n",
    "上述的步骤演示了如何在建立系统模型时减少那些繁琐、费时且可能很易出错的工作。本章介绍了此进程的最后一步，即：如何使用架构 。**架构是指包含了预连接的子系统集合的模型。** 架构模型可以通过简单选择子系统的某个具体实施（模型）来组成系统。这样，我们不仅不用提供方程，而且也没有任何拖拽或连接组件、子系统的必要。相反，我们只需要为每个子系统所使用选定模型就可以进行仿真了。\n",
    "\n",
    "## 示例\n",
    "\n",
    "> [传感器比较](./Examples/Sensor Comparison.ipynb)\n",
    "\n",
    "> [架构驱动方法](./Examples/Architecture Driven Approach.ipynb)\n",
    "\n",
    "> [热力控制](./Examples/Thermal Control.ipynb)\n",
    "\n",
    "## 回顾\n",
    "\n",
    "> [接口和实现](./Review/Interfaces and Implementations.ipynb)\n",
    "\n",
    "> [配置管理](./Review/Configuration Management.ipynb)\n",
    "\n",
    "> [可扩展连接器](./Review/Expandable Connectors.ipynb)\n"
   ]
  }
 ],
 "metadata": {
  "anaconda-cloud": {},
  "kernelspec": {
   "display_name": "Python [default]",
   "language": "python",
   "name": "python3"
  },
  "language_info": {
   "codemirror_mode": {
    "name": "ipython",
    "version": 3
   },
   "file_extension": ".py",
   "mimetype": "text/x-python",
   "name": "python",
   "nbconvert_exporter": "python",
   "pygments_lexer": "ipython3",
   "version": "3.5.2"
  }
 },
 "nbformat": 4,
 "nbformat_minor": 2
}
