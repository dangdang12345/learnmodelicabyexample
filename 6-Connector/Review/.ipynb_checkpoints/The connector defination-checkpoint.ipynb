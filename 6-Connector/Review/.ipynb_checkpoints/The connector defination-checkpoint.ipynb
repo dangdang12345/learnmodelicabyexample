{
 "cells": [
  {
   "cell_type": "markdown",
   "metadata": {},
   "source": [
    "# 连接器定义\n",
    "\n",
    "## 语法\n",
    "\n",
    "正如我们已经多次看到的一样，Modelica定义之间有着相当的句法相似性。这也对connector定义成立。\n",
    "\n",
    "\n",
    "连接器定义的一般语法是：\n",
    "\n",
    "\n",
    "```Modelica\n",
    "connector ConnectorName \"Description of the connector\"\n",
    "  // Declarations for connector variables\n",
    "end ConnectorName;\n",
    "```\n",
    "\n",
    "\n",
    "不同于model或function，connector不得包含任何行为。所以在connector内永远不会出现equation或algorithm区域。\n",
    "\n",
    "\n",
    "\n",
    "## 变量\n",
    "\n",
    "### 因果性变量\n",
    "\n",
    "在之前对框图连接器的讨论里，我们介绍了Modelica的connector定义内的变量可以和因果关系联系起来。如果信号应在部件外计算出来，则变量就应该加上input限定词。另一方面，若信号应在部件内计算出来（然后再传输到其他部件），则变量就应该加上input限定词。\n",
    "\n",
    "\n",
    "\n",
    "### 非因果变量\n",
    "\n",
    "在我们对简单领域以及流体连接器的讨论里，我们看到包括许多穿越变量和横跨变量的connector定义。这些变量总是成对出现的。穿越变量带有flow限定词。横跨变量则没有限定词。\n",
    "我们将在接下来的章节中看到，这样的连接器在定义物理系统建模时非常方便。因为这些连接器帮助Modelica语言编译器自动生成组件网络的守恒方程。此外，连接器允许数量等、质量、动量、能量、电荷、介质种类等双向地流过网络。\n",
    "\n",
    "\n",
    "\n",
    "### 参数\n",
    "\n",
    "connector定义的变量也可以加入parameter限定词。这个限定词和我们第一次讨论参数时意思一样。也就是说，该变量的值在模拟过程中不能改变。parameter变量在连接器定义里经常用于指示连接器内数组的大小。\n",
    "\n",
    "\n",
    "\n",
    "### 结语\n",
    "\n",
    "应该指出的是，单个connector定义可以都在同一个连接器内混合因果、非因果和参数变量。事实上，连接器的变量本身可以也是一个连接器。Modelica的丰富表现力允许用户模拟一系列不同类型的相互作用，以及为每个变量选择对潜在相互作用最有意义的语义。"
   ]
  },
  {
   "cell_type": "code",
   "execution_count": null,
   "metadata": {
    "collapsed": true
   },
   "outputs": [],
   "source": []
  }
 ],
 "metadata": {
  "kernelspec": {
   "display_name": "Python 3",
   "language": "python",
   "name": "python3"
  },
  "language_info": {
   "codemirror_mode": {
    "name": "ipython",
    "version": 3
   },
   "file_extension": ".py",
   "mimetype": "text/x-python",
   "name": "python",
   "nbconvert_exporter": "python",
   "pygments_lexer": "ipython3",
   "version": "3.6.0"
  }
 },
 "nbformat": 4,
 "nbformat_minor": 0
}
