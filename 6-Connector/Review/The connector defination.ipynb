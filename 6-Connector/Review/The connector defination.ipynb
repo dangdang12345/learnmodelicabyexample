{
 "cells": [
  {
   "cell_type": "markdown",
   "metadata": {
    "nbpresent": {
     "id": "bed62ad1-77c4-4b07-ab2b-6554ea43bacb"
    }
   },
   "source": [
    "# 连接器定义\n",
    "\n",
    "## 语法\n",
    "\n",
    "正如我们已经多次看到的一样，Modelica定义之间有着相当的句法相似性。这也对connector定义成立。\n",
    "\n",
    "连接器定义的一般语法是：\n",
    "\n",
    "\n",
    "```Modelica\n",
    "connector ConnectorName \"Description of the connector\"\n",
    "  // Declarations for connector variables\n",
    "end ConnectorName;\n",
    "```\n",
    "\n",
    "不同于model或function，connector不得包含任何行为。所以在connector内永远不会出现equation或algorithm区域。\n"
   ]
  },
  {
   "cell_type": "markdown",
   "metadata": {
    "collapsed": true,
    "nbpresent": {
     "id": "11966499-b543-43cf-98cf-b4b50da4d576"
    }
   },
   "source": [
    "## 变量\n",
    "\n",
    "### 因果性变量\n",
    "\n",
    "在之前对框图连接器的讨论里，我们介绍了Modelica的connector定义内的变量可以和因果关系联系起来。如果信号应在部件外计算出来，则变量就应该加上input限定词。另一方面，若信号应在部件内计算出来（然后再传输到其他部件），则变量就应该加上output限定词。\n",
    "\n",
    "\n"
   ]
  },
  {
   "cell_type": "markdown",
   "metadata": {
    "nbpresent": {
     "id": "4bae3638-8e7a-4049-9550-8b3c148af4a8"
    }
   },
   "source": [
    "\n",
    "### 非因果变量\n",
    "\n",
    "在我们对简单领域以及流体连接器的讨论里，我们看到包括许多穿越变量和横跨变量的connector定义。这些变量总是成对出现的。穿越变量带有flow限定词。横跨变量则没有限定词。\n",
    "我们将在接下来的章节中看到，这样的连接器在定义物理系统建模时非常方便。因为这些连接器帮助Modelica语言编译器自动生成组件网络的守恒方程。此外，连接器允许数量等、质量、动量、能量、电荷、介质种类等双向地流过网络。\n",
    "\n",
    "\n",
    "\n",
    "### 参数\n",
    "\n",
    "connector定义的变量也可以加入parameter限定词。这个限定词和我们第一次讨论参数时意思一样。也就是说，该变量的值在模拟过程中不能改变。parameter变量在连接器定义里经常用于指示连接器内数组的大小。\n",
    "\n",
    "\n",
    "\n",
    "### 结语\n",
    "\n",
    "应该指出的是，单个connector定义可以都在同一个连接器内混合因果、非因果和参数变量。事实上，连接器的变量本身可以也是一个连接器。Modelica的丰富表现力允许用户模拟一系列不同类型的相互作用，以及为每个变量选择对潜在相互作用最有意义的语义。"
   ]
  },
  {
   "cell_type": "code",
   "execution_count": null,
   "metadata": {
    "collapsed": true
   },
   "outputs": [],
   "source": []
  }
 ],
 "metadata": {
  "anaconda-cloud": {},
  "kernelspec": {
   "display_name": "Python [default]",
   "language": "python",
   "name": "python3"
  },
  "language_info": {
   "codemirror_mode": {
    "name": "ipython",
    "version": 3
   },
   "file_extension": ".py",
   "mimetype": "text/x-python",
   "name": "python",
   "nbconvert_exporter": "python",
   "pygments_lexer": "ipython3",
   "version": "3.5.2"
  },
  "nbpresent": {
   "slides": {
    "0bd3cc25-a460-461f-af9c-90c15483e787": {
     "id": "0bd3cc25-a460-461f-af9c-90c15483e787",
     "prev": null,
     "regions": {
      "6839bc10-76ed-43ec-bbc8-5b9fbc638dc6": {
       "attrs": {
        "height": 0.8,
        "width": 0.8,
        "x": 0.1,
        "y": 0.1
       },
       "content": {
        "cell": "bed62ad1-77c4-4b07-ab2b-6554ea43bacb",
        "part": "whole"
       },
       "id": "6839bc10-76ed-43ec-bbc8-5b9fbc638dc6"
      }
     }
    },
    "16943d07-9555-44eb-ad13-d1d09ad9ff93": {
     "id": "16943d07-9555-44eb-ad13-d1d09ad9ff93",
     "prev": "e4021f19-6d47-4b8a-8e47-2d48fd79e9a1",
     "regions": {
      "621bde83-9b82-48c2-ab80-261c78fabd87": {
       "attrs": {
        "height": 0.8,
        "width": 0.45,
        "x": 0.05,
        "y": 0.1
       },
       "content": {
        "cell": "11966499-b543-43cf-98cf-b4b50da4d576",
        "part": "source"
       },
       "id": "621bde83-9b82-48c2-ab80-261c78fabd87"
      },
      "b80519c4-b601-47aa-a58f-b3440265bc84": {
       "attrs": {
        "height": 0.8,
        "width": 0.45,
        "x": 0.5,
        "y": 0.1
       },
       "id": "b80519c4-b601-47aa-a58f-b3440265bc84"
      }
     }
    },
    "2093ec7a-8050-4273-af9d-f07e6f50094c": {
     "id": "2093ec7a-8050-4273-af9d-f07e6f50094c",
     "prev": "2c78fc40-ca35-46e9-ac15-eef8710c1843",
     "regions": {
      "c6c0e280-e9a3-4358-aa2f-2684ed84eb2e": {
       "attrs": {
        "height": 1,
        "width": 1,
        "x": 0,
        "y": 0
       },
       "id": "c6c0e280-e9a3-4358-aa2f-2684ed84eb2e"
      }
     }
    },
    "2c78fc40-ca35-46e9-ac15-eef8710c1843": {
     "id": "2c78fc40-ca35-46e9-ac15-eef8710c1843",
     "prev": "16943d07-9555-44eb-ad13-d1d09ad9ff93",
     "regions": {}
    },
    "e4021f19-6d47-4b8a-8e47-2d48fd79e9a1": {
     "id": "e4021f19-6d47-4b8a-8e47-2d48fd79e9a1",
     "prev": "0bd3cc25-a460-461f-af9c-90c15483e787",
     "regions": {
      "d822842e-17ae-4478-8d51-d9670763c988": {
       "attrs": {
        "height": 1,
        "width": 1,
        "x": 0,
        "y": 0
       },
       "content": {
        "cell": "4bae3638-8e7a-4049-9550-8b3c148af4a8",
        "part": "source"
       },
       "id": "d822842e-17ae-4478-8d51-d9670763c988"
      }
     }
    }
   },
   "themes": {
    "default": "14aa5ebd-b091-47aa-bb45-4c655ce1b7d5",
    "theme": {
     "14aa5ebd-b091-47aa-bb45-4c655ce1b7d5": {
      "id": "14aa5ebd-b091-47aa-bb45-4c655ce1b7d5",
      "palette": {
       "19cc588f-0593-49c9-9f4b-e4d7cc113b1c": {
        "id": "19cc588f-0593-49c9-9f4b-e4d7cc113b1c",
        "rgb": [
         252,
         252,
         252
        ]
       },
       "31af15d2-7e15-44c5-ab5e-e04b16a89eff": {
        "id": "31af15d2-7e15-44c5-ab5e-e04b16a89eff",
        "rgb": [
         68,
         68,
         68
        ]
       },
       "50f92c45-a630-455b-aec3-788680ec7410": {
        "id": "50f92c45-a630-455b-aec3-788680ec7410",
        "rgb": [
         155,
         177,
         192
        ]
       },
       "c5cc3653-2ee1-402a-aba2-7caae1da4f6c": {
        "id": "c5cc3653-2ee1-402a-aba2-7caae1da4f6c",
        "rgb": [
         43,
         126,
         184
        ]
       },
       "efa7f048-9acb-414c-8b04-a26811511a21": {
        "id": "efa7f048-9acb-414c-8b04-a26811511a21",
        "rgb": [
         25.118061674008803,
         73.60176211453744,
         107.4819383259912
        ]
       }
      },
      "rules": {
       "blockquote": {
        "color": "50f92c45-a630-455b-aec3-788680ec7410"
       },
       "code": {
        "font-family": "Anonymous Pro"
       },
       "h1": {
        "color": "c5cc3653-2ee1-402a-aba2-7caae1da4f6c",
        "font-family": "Lato",
        "font-size": 8
       },
       "h2": {
        "color": "c5cc3653-2ee1-402a-aba2-7caae1da4f6c",
        "font-family": "Lato",
        "font-size": 6
       },
       "h3": {
        "color": "50f92c45-a630-455b-aec3-788680ec7410",
        "font-family": "Lato",
        "font-size": 5.5
       },
       "h4": {
        "color": "c5cc3653-2ee1-402a-aba2-7caae1da4f6c",
        "font-family": "Lato",
        "font-size": 5
       },
       "h5": {
        "font-family": "Lato"
       },
       "h6": {
        "font-family": "Lato"
       },
       "h7": {
        "font-family": "Lato"
       },
       "pre": {
        "font-family": "Anonymous Pro",
        "font-size": 4
       }
      },
      "text-base": {
       "font-family": "Merriweather",
       "font-size": 4
      }
     }
    }
   }
  }
 },
 "nbformat": 4,
 "nbformat_minor": 0
}
