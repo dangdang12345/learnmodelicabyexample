{
 "cells": [
  {
   "cell_type": "markdown",
   "metadata": {},
   "source": [
    "# 连接器\n",
    "\n",
    "\n",
    "## 简介\n",
    "\n",
    "> [简介](./Introduction/Introduction.ipynb)\n",
    "\n",
    "\n",
    "\n",
    "\n",
    "## 示例\n",
    "\n",
    "> [简单领域](./Examples/The%20simple%20engineering%20field.ipynb)\n",
    "\n",
    "> [流体连接器](./Examples/Fluid%20connector.ipynb)\n",
    "\n",
    "> [框图连接器](./Examples/Diagram%20connector.ipynb)\n",
    "\n",
    "> [图形连接器](./Examples/Graphics%20connector.ipynb)\n",
    "\n",
    "\n",
    "\n",
    "## 回顾\n",
    "\n",
    "> [连接器定义](./Review/The%20connector%20defination.ipynb)\n",
    "\n",
    "> [图形标注](./Review/Graphical%20annotation.ipynb)\n",
    "\n",
    "\n",
    "\n",
    "\n",
    "\n"
   ]
  },
  {
   "cell_type": "code",
   "execution_count": null,
   "metadata": {},
   "outputs": [],
   "source": []
  }
 ],
 "metadata": {
  "anaconda-cloud": {},
  "kernelspec": {
   "display_name": "Python 3",
   "language": "python",
   "name": "python3"
  },
  "language_info": {
   "codemirror_mode": {
    "name": "ipython",
    "version": 3
   },
   "file_extension": ".py",
   "mimetype": "text/x-python",
   "name": "python",
   "nbconvert_exporter": "python",
   "pygments_lexer": "ipython3",
   "version": "3.6.4"
  }
 },
 "nbformat": 4,
 "nbformat_minor": 2
}
