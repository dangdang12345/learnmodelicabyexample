{
 "cells": [
  {
   "cell_type": "markdown",
   "metadata": {},
   "source": [
    "# 连接器\n",
    "\n",
    "\n",
    "## 简介\n",
    "\n",
    "> [简介](./Introduction/Introduction.ipynb)\n",
    "\n",
    "\n",
    "\n",
    "\n",
    "## 示例\n",
    "\n",
    "> [简单领域](./Examples/The simple engineering field.ipynb)\n",
    "\n",
    "> [流体连接器](./Examples/Fluid connector.ipynb)\n",
    "\n",
    "> [框图连接器](./Examples/Diagram  connector.ipynb)\n",
    "\n",
    "> [图形连接器](./Examples/Graphics connector.ipynb)\n",
    "\n",
    "\n",
    "\n",
    "## 回顾\n",
    "\n",
    "> [连接器定义](./Review/The connector defination.ipynb)\n",
    "\n",
    "> [图形标注](./Review/Graphical annotation.ipynb)\n",
    "\n",
    "\n",
    "\n",
    "\n",
    "\n"
   ]
  }
 ],
 "metadata": {
  "anaconda-cloud": {},
  "kernelspec": {
   "display_name": "Python 3",
   "language": "python",
   "name": "python3"
  },
  "language_info": {
   "codemirror_mode": {
    "name": "ipython",
    "version": 3
   },
   "file_extension": ".py",
   "mimetype": "text/x-python",
   "name": "python",
   "nbconvert_exporter": "python",
   "pygments_lexer": "ipython3",
   "version": "3.6.4"
  }
 },
 "nbformat": 4,
 "nbformat_minor": 2
}
