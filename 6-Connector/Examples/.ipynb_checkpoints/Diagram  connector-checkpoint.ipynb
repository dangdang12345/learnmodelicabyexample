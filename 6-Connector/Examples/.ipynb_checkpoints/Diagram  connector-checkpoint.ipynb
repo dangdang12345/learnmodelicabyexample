{
 "cells": [
  {
   "cell_type": "markdown",
   "metadata": {},
   "source": [
    "# 框图连接器\n",
    "\n",
    "到目前为止，所有前述的连接器均为非因果性的。这意味着它们均是由穿越变量以及横跨变量组成的。这样的连接器是建模物理相互作用（组件之间进行守恒量交换）的基础。Modelica也可以建模其他类型的相互作用，以及使用其他的建模方式。\n",
    "\n",
    "\n",
    "框图连接器用于建模系统的信息流。在这里，我们不关心例如电流这种流向有时正向、有时反向的物理量。相反，我们只会考虑如何对信号进行建模。信号就是系统中的一些组件会产生的信息。然后，另外一些部件则会消费这些信息（并反过来产生其它信息）。\n",
    "\n",
    "在这种情况下，我们一般分别吧这样的信号称为“输入信号”以及“输出信号”。\n",
    "\n",
    "\n",
    "为了模拟这种相互作用，我们可以使用如下的接口定义：\n",
    "\n",
    "\n",
    "```Modelica\n",
    "within ModelicaByExample.Connectors;\n",
    "package BlockConnectors \"Connectors for block diagrams\"\n",
    "  connector RealInput = input Real;\n",
    "  connector RealOutput = output Real;\n",
    "  connector IntegerInput = input Integer;\n",
    "  connector IntegerOutput = output Integer;\n",
    "  connector BooleanInput = input Boolean;\n",
    "  connector BooleanOutput = output Boolean;\n",
    "end BlockConnectors;\n",
    "```\n",
    "\n",
    "\n",
    "很显然，BooleanInput连接器表明输入信号为Boolean。RealOutput则标示Real输出信号。\n",
    "\n",
    "\n",
    "我们会在框图组件的讨论里看到这些接口定义有何用处。"
   ]
  },
  {
   "cell_type": "code",
   "execution_count": null,
   "metadata": {
    "collapsed": true
   },
   "outputs": [],
   "source": []
  }
 ],
 "metadata": {
  "kernelspec": {
   "display_name": "Python 3",
   "language": "python",
   "name": "python3"
  },
  "language_info": {
   "codemirror_mode": {
    "name": "ipython",
    "version": 3
   },
   "file_extension": ".py",
   "mimetype": "text/x-python",
   "name": "python",
   "nbconvert_exporter": "python",
   "pygments_lexer": "ipython3",
   "version": "3.6.0"
  }
 },
 "nbformat": 4,
 "nbformat_minor": 0
}
