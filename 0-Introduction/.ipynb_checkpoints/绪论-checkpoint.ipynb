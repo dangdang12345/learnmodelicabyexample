{
 "cells": [
  {
   "cell_type": "markdown",
   "metadata": {},
   "source": [
    "# 系统建模与仿真概述\n",
    "\n",
    "\n",
    "## 什么是系统？System\n",
    "\n",
    "\n",
    "> 系统可以定义为一个我们想研究的物体或者是物体的集合。\n",
    "\n",
    "<img src=\"./figures\\system.png\" width = \"400\"  alt=\"太阳能供热系统\" align=center />\n",
    "\n",
    "\n",
    "## 研究系统的目的？\n",
    "\n",
    "\n",
    "> 研究系统的目的是为了建造它——工程师视角\n",
    "<img src=\"./figures\\2.png\" width = \"300\"  alt=\"汽车系统\" align=center />\n",
    "\n",
    "\n",
    "> 研究系统的目的是为了了解它——自然科学家视角\n",
    "\n",
    "<img src=\"./figures\\3.png\" width = \"400\"  alt=\"人体系统\" align=center />\n",
    "\n"
   ]
  },
  {
   "cell_type": "markdown",
   "metadata": {},
   "source": [
    "## 研究系统的方法\n",
    "\n",
    "> 实验：通过已有系统的操作，提取信息完成对系统的观测，系统必须能够可控，可测量或可观测。\n",
    "\n",
    "> 实验的缺点：\n",
    "1. 实验可能会非常昂贵，例如汽车碰撞，飞机结构强度测试\n",
    "2. 实验有可能会非常危险，例如原子能实验\n",
    "3. 要实验的系统不存在，例如在飞机型号建造之前"
   ]
  },
  {
   "cell_type": "markdown",
   "metadata": {},
   "source": [
    "## 什么是模型？System\n",
    "\n",
    "> 系统的模型是指可以代替要研究的系统进行实验，获得想要信息的系统。\n",
    "\n",
    "### 模型的种类：\n",
    "> 1.物理模型——真实系统的实物模拟，例如风洞试验中的小型飞机模型\n",
    "\n",
    "> 2 数学模型——对系统变量之间的关系的数学描述，例如欧姆定律，牛顿三定律\n",
    "\n"
   ]
  },
  {
   "cell_type": "markdown",
   "metadata": {},
   "source": [
    "## 什么是仿真?\n",
    "\n",
    "> 仿真是一种人为的试验手段,实际系统映象的系统模型以及相应的“人造”环境下进行的实际过程的模拟，这是仿真的主要功能。\n",
    "\n",
    "> 仿真可以比较真实地描述系统的运行、演变及其发展过程。\n",
    "\n",
    "> 模仿一个系统，模仿得很像，看上去跟原系统的差不多。\n",
    "\n",
    "\n",
    "## 为什么仿真?\n",
    "\n",
    "> 1. 可以克服实验昂贵、危险，实物不存在等缺点。\n",
    "\n",
    "> 2. 仿真可以实现不同时间域的仿真\n",
    "\n",
    "> 3. 试验中部分比变量是不可见，不可获得的\n",
    "\n",
    "> 4. 仿真修改起来非常容易\n",
    "\n",
    "> 5. 排除了干扰的影响\n",
    "\n",
    "> 6. 忽略了次要因素的影响\n"
   ]
  },
  {
   "cell_type": "markdown",
   "metadata": {},
   "source": [
    "## 什么是机电系统？Mechatronics\n",
    "\n",
    "- 机电一体化\n",
    "    - 机械\n",
    "    - 电子\n",
    "    - 控制\n",
    "\n",
    "<img src=\"./figures\\4.png\" width = \"400\"  alt=\"人体系统\" align=center />\n",
    "\n",
    "\n",
    "### 被控对象\n",
    "\n",
    "- 机械系统，机构、力学 Mechanical\n",
    "- 电气系统，电路，电气学，电机 Electric\n",
    "- 流体系统，流体力学、机械 Fluid\n",
    "- 热系统，热力学、机械 Thermal\n",
    "\n",
    "### 功率放大\n",
    "\n",
    "- 电气\n",
    "    - 连续功率放大器\n",
    "    - 开关功率放大，功率管，IGBT\n",
    "\n",
    "- 液压\n",
    "    - 伺服阀 \n",
    "    - 比例阀\n",
    "\n",
    "\n",
    "### 执行器\n",
    "\n",
    "- 电机（电气系统）\n",
    "- 液压泵/马达（液压驱动系统）\n",
    "- 加热管（热控系统）\n",
    "- 喷管（火箭）\n",
    "\n",
    "### 控制系统\n",
    "\n",
    "- 模拟电路控制系统\n",
    "- 数字控制系统\n",
    "    - 控制系统硬件（处理器、AD、DA模块）\n",
    "    - 控制系统软件（时间管理模块）\n",
    "\n",
    "### 敏感元件\n",
    "\n",
    "- 位移传感器\n",
    "- 力传感器\n",
    "- 压力传感器\n",
    "- 温度传感器（热电偶）\n",
    "- 速度传感器（测速电机）\n",
    "- 姿态传感器（陀螺）\n"
   ]
  },
  {
   "cell_type": "code",
   "execution_count": null,
   "metadata": {
    "collapsed": true
   },
   "outputs": [],
   "source": []
  }
 ],
 "metadata": {
  "anaconda-cloud": {},
  "kernelspec": {
   "display_name": "Python [default]",
   "language": "python",
   "name": "python3"
  },
  "language_info": {
   "codemirror_mode": {
    "name": "ipython",
    "version": 3
   },
   "file_extension": ".py",
   "mimetype": "text/x-python",
   "name": "python",
   "nbconvert_exporter": "python",
   "pygments_lexer": "ipython3",
   "version": "3.5.2"
  }
 },
 "nbformat": 4,
 "nbformat_minor": 1
}
