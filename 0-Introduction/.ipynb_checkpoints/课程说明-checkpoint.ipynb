{
 "cells": [
  {
   "cell_type": "markdown",
   "metadata": {},
   "source": [
    "# 教学大纲\n",
    "\n",
    "## 学分：2\n",
    "\n",
    "## 学时：32\n",
    "\n",
    "## 上课时间：周三1,2节，B122，2-18周\n",
    "\n",
    "## 课程目标\n",
    "\n",
    "- 掌握机电系统建模仿真的思路\n",
    "- 掌握机电建模的基本方程\n",
    "- 掌握基于Modelica的面向对象建模语言"
   ]
  },
  {
   "cell_type": "markdown",
   "metadata": {},
   "source": [
    "## 教学内容\n",
    "\n",
    "* 第一章绪论                                            2学时\n",
    "\n",
    "> 介绍课程意义，教学方法，软件工具等\n",
    "\n",
    "* 第二章   多学科建模语言Modelica介绍           10学时\n",
    "\n",
    "> 课程所用建模语言Modelica介绍。\n",
    "\n",
    "* 第三章   机电系统的多学科建模           16学时\n",
    "\n",
    "> 以实际系统为例，基于Modelica语言，介绍机电系统多学科建模方法。\n",
    "\n",
    "* 第四章   常用建模仿真软件介绍与使用   2学时\n",
    "\n",
    "> 用应用实例介绍常用建模软件和工具的功能与使用，AMESim，SimulationX等；\n",
    "\n",
    "* 第五章   半实物(HIL)仿真技术               2学时\n",
    "\n",
    "> 介绍半实物实时仿真系统的基本概念、组成原理和关键技术\n"
   ]
  },
  {
   "cell_type": "markdown",
   "metadata": {},
   "source": [
    "## 考核方式：\n",
    "\n",
    "> 采取笔试与撰写论文报告相结合的方式。\n",
    "\n",
    "> 笔试部分，小开卷，占50%。\n",
    "\n",
    "> 作业：理论分析、建模、仿真，占50%\n",
    "\n"
   ]
  },
  {
   "cell_type": "markdown",
   "metadata": {},
   "source": [
    "## 课程公用邮箱\n",
    "\n",
    ">   [MESimulation@163.com](MESimulation@163.com) \n",
    "\n",
    ">   PW：buaa03\n",
    "\n",
    "## 我的邮箱\n",
    "\n",
    ">   [ws@buaa.edu.cn](ws@buaa.edu.cn) "
   ]
  },
  {
   "cell_type": "markdown",
   "metadata": {},
   "source": [
    "\n",
    "## 前言\n",
    "\n",
    "\n",
    "\n",
    "## Modelica是什么？\n",
    "\n",
    "> Modelica是一种高级的陈述式语言用于描述事物的数学特性。它通常应用于工程领域，可以轻松的描述不同类型工程组件（例如弹簧、电阻、离合器等）的工作特性。此外，这些组件又可以方便的组合成子系统、系统，甚至架构模型。\n",
    "\n",
    "\n",
    "## 为什么选择Modelica？\n",
    "\n",
    "> Modelica语言令人信服的原因主要有以下几点。第一，也是最重要的是它的技术实力。Modelica编译器在后台运行复杂的算法，使得工程师可以将工作重点放在组件特性的数学描述上，以获得高性能的仿真速度。而工程师不需要具备某些相关领域的高深知识，例如微分代数方程组、符号运算、数值求解、代码生成、后处理等。\n",
    "\n",
    "> Modelica语言在技术实现上能成功的关键是它支持广泛的建模形式，即Modelica语言支持在混合微分代数方程组中同时描述连续和离散特性。Modelica语言支持在同一模型中同时使用**因果**（通常用于控制系统设计）和**非因果**（通常用于创建面向原理的物理模型设计）的建模方法。\n",
    "\n",
    "> 最后，Modelica语言另一个引人注目的事实是：Modelica从一开始就是作为开放的语言标准设计的。Modelica语言规范可以免费获得。这大大激励了工具供应商支持Modelica模型导入、导出的热情（因为不需要强制支付任何形式的版税）。\n",
    "\n",
    "\n",
    "## 我能用Modelica语言做什么？\n",
    "\n",
    "> Modelica绝对是一种理想的建模语言，它几乎可以用于所有工程领域的系统特性建模。单纯使用Modelica语言，就可以完美的支持物理模型设计和控制模型设计。同时，Modelica语言也具有多领域性，因此它不会强制引入任何人为的干涉来限制其应用的工程领域或系统。综上所述，Modelica语言提供了一整套用于建立集总参数模型的方法，几乎涉及所有的工程应用系统。\n",
    "\n",
    "> 本课程将基于新一代的建模语言Modelica进行教学。\n",
    "\n",
    "> Modelica 是一种开放、面向对象的以方程为基础的语言，可以跨越不同领域，方便地实现复杂物理系统的建模，包括：机械、电子、电力、液压、热、控制及面向过程的子系统模型。\n",
    "\n",
    ">Modelica库包含了大量的模型，其中，开放的Modelica标准库包括了不同物理领域的920个元件模型。\n",
    "\n",
    "> Modelica是一个开放的物理建模平台，可用于许多商业软件，例如：MWorks(中国),SimulationX, CATIA Systems, Dymola,AMESim, JModelica, MapleSim, MathModelica, OpenModelica, SCICOS 及 Vertex。\n",
    "\n",
    "> 目前，越来越多的行业开始使用Modelica语言进行模型开发。尤其是汽车领域，例如： Audi, BMW, Daimler, Ford, Toyota, VW 等世界知名公司都在使用Modelica来开发节能汽车、改善车辆空调系统等。航空领域也越来越\n",
    "\n",
    "> 非营利国际组织Modelica协会对Modelica进行开发和维护并公开它的标准程序库。\n",
    "\n",
    "> Modelica协会官方网址：[https://www.modelica.org/](https://www.modelica.org/)\n",
    "\n"
   ]
  },
  {
   "cell_type": "markdown",
   "metadata": {},
   "source": [
    "## 使用软件\n",
    "\n",
    "> 本课程将基于国内开发的的Modelica建模软件平台MWorks进行课堂建模教学与仿真作业。\n",
    "\n",
    "> 官方网址：[http://www.tongyuan.cc/](http://www.tongyuan.cc/)\n",
    "\n",
    "> 苏州同元软控信息技术有限公司成立于2008年，总部位于苏州市中新工业园区，是围绕复杂工程系统数字化设计与验证，提供产品研发、工程咨询及一体化解决方案服务的高科技企业。 同元软控以中国创造为发展契机，以国际工业标准“源创”为技术优势，通过掌握新一代数字化设计核心技术——多领域物理统一建模技术，打造同元软控技术品牌，引领亚太地区新一代数字化设计技术的开发与应用。\n",
    "\n",
    "> 近十年来，立足于多领域物理统一建模国际规范Modelica，在工业知识表达标准、工程计算平台、功能模型构件库等方面取得系列创新成果，位居国际前列；并通过引入市场化的管理和资本，实现技术优势向市场优势的转化，形成完全自主知识产权的面向复杂机电产品开发的建模、分析、仿真、优化一体化的工程计算平台MWorks；同时，大力推进创新技术的产品化、产业化，占领国内市场，参与国际竞争，努力创造“知本经济”的新模式，成为亚太地区独立从事多领域建模与仿真基础技术研究、软件平台开发、工程咨询及一体化解决方案服务的首家企业。\n",
    "\n",
    "> 以MWorks平台为核心产品，以深度技术服务为理念，同元软控为中国商用飞机有限责任公司、西安飞机工业（集团）有限责任公司、中国运载火箭技术研究院（航天一院）、中国空间技术研究院（航天五院）、中国航天推进技术研究院（航天六院）、中船重工701研究所、东风汽车技术中心、奇瑞汽车技术中心、江淮汽车技术中心、二炮研究院等一流客户提供了满意的产品和服务。\n",
    "\n",
    "> MWorks.Sysplorer_2016 [下载地址](http://www.tongyuan.cc/index.php?m=content&c=index&a=lists&catid=190), 免费版可以建立和仿真500个方程以下的模型\n",
    "\n",
    "> 也可以使用免费的Modelica建模软件平台[OpenModelica](https://openmodelica.org/)\n",
    "，Windows平台下OpenMolelica[下载网址](https://openmodelica.org/download/download-windows)\n",
    ",没有方程个数限制。\n"
   ]
  },
  {
   "cell_type": "markdown",
   "metadata": {},
   "source": [
    "## 课件\n",
    "\n",
    "> Jupyter Notebook（此前被称为 IPython notebook）是一个交互式笔记本，支持运行 40 多种编程语言。在本文中，我们将介绍 Jupyter notebook 的主要特性，以及为什么对于希望编写漂亮的交互式文档的人来说是一个强大工具。\n",
    "\n",
    "> Anaconda 套件  [下载地址](https://www.continuum.io/downloads/)\n",
    "Anaconda是Python的一个开源发行版本，主要面向科学计算。我们可以简单理解为，Anaconda是一个预装了很多第三方库的Python。\n"
   ]
  },
  {
   "cell_type": "markdown",
   "metadata": {},
   "source": [
    "## 参考资料\n",
    "\n",
    "\n",
    "主要参考资料\n",
    "\n",
    "Modelica by Example \n",
    "\n",
    "网址  [http://book.xogeny.com/](http://book.xogeny.com/) \n",
    "\n",
    "中文版 [http://modelicabyexample.globalcrown.com.cn/](http://modelicabyexample.globalcrown.com.cn/)\n"
   ]
  }
 ],
 "metadata": {
  "anaconda-cloud": {},
  "kernelspec": {
   "display_name": "Python [default]",
   "language": "python",
   "name": "python3"
  },
  "language_info": {
   "codemirror_mode": {
    "name": "ipython",
    "version": 3
   },
   "file_extension": ".py",
   "mimetype": "text/x-python",
   "name": "python",
   "nbconvert_exporter": "python",
   "pygments_lexer": "ipython3",
   "version": "3.5.2"
  }
 },
 "nbformat": 4,
 "nbformat_minor": 1
}
