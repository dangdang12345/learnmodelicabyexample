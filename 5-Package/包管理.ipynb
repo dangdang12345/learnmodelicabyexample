{
 "cells": [
  {
   "cell_type": "markdown",
   "metadata": {
    "slideshow": {
     "slide_type": "slide"
    }
   },
   "source": [
    "# 包管理\n",
    "\n",
    "到目前为止，我们已经介绍了所有类型的模型，而没有任何真正讨论过如何正确地对模型进行组织。在某些情况下，如在NewtonCoolingWithTypes例子讨论添加物理量类型信息时，把所有信息放在单一的模型内实在有些奇怪。有许多情况，相同的信息在多个模型里被重复，这使得对这些模型的维护变得非常困难。\n",
    "好消息是，许多这样的前述例子能够通过借助Modelica的package系统得到极大改善。package在概念上类似于目录。它包含一系列Modelica实体的集合。通过引用或者导入这些实体，我们就可以避免重复。\n",
    "\n",
    "本章提供了几个例子，去演示如何使用Modelica的包这个功能。\n",
    "\n",
    "本章将讨论Modelica标准库，这个所有Modelica工具都附带的包含了大量可重用内容的模型库。\n",
    "\n",
    "\n",
    "## 示例\n",
    "\n",
    "> [组织内容](./Examples/Organizing content.ipynb)\n",
    "\n",
    "\n",
    "> [引用包内内容](./Examples/Reference the package content.ipynb)\n",
    "\n",
    "> [导入物理类型](./Examples/Import physical model.ipynb)\n",
    "\n",
    "\n",
    "\n",
    "## 回顾\n",
    "\n",
    "> [包的定义](./Review/The definition of package.ipynb)\n",
    "\n",
    "> [查找规则](./Review/Checking rules.ipynb)\n",
    "\n",
    "> [导入](./Review/Import.ipynb)\n",
    "\n",
    "> [Modelica标准库](./Review/Modelica standard library.ipynb)\n",
    "\n",
    "\n",
    "\n",
    "\n"
   ]
  }
 ],
 "metadata": {
  "anaconda-cloud": {},
  "celltoolbar": "Slideshow",
  "kernelspec": {
   "display_name": "Python [default]",
   "language": "python",
   "name": "python3"
  },
  "language_info": {
   "codemirror_mode": {
    "name": "ipython",
    "version": 3
   },
   "file_extension": ".py",
   "mimetype": "text/x-python",
   "name": "python",
   "nbconvert_exporter": "python",
   "pygments_lexer": "ipython3",
   "version": "3.5.2"
  }
 },
 "nbformat": 4,
 "nbformat_minor": 1
}
