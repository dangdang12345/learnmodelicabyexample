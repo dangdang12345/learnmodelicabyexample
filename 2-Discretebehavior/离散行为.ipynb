{
 "cells": [
  {
   "attachments": {},
   "cell_type": "markdown",
   "metadata": {},
   "source": [
    "# 离散行为\n",
    "\n",
    "\n",
    "到目前为止，我们看到的例子均为纯粹连续的。这意味着，系统不曾受到突然的扰动。本章中，我们将重点放在如何描述所谓“离散行为”上。许多不同的工程用例均描述了类似的行为。而我们将在本章中通过不同的例子对其进行探索。\n",
    "\n",
    "一般情况下，当谈论离散行为时，我们通常会提到“事件”（event）。事件是任何在系统内触发了某种不连续性的东西。微分方程通常会有连续的解。但产生事件时，方程则会带来各种不连续性。\n",
    "\n",
    "发生在某个特定时间的事件是最简单的一类事件。这种事件自然被称作“时间事件”（time event）。由于这种事件和时间紧密相关，我们甚至可以在时间发生前就知道发生时间。以给定频率被激活的数字时钟所触发的变化就是时间事件的一个例子。\n",
    "\n",
    "我们会遇到的另一类时间就是所谓的“状态事件”（state event）。这类事件都通常更难以处理，原因是我们无法先验地知道发生此类事件的时间。和时间事件不同，我们必须等到某信号越过特定阈值。一般而言，我们不知道什么时候信号会越界。此外，确定事件发生的精确时刻是比较昂贵的。\n",
    "\n",
    "在本章中，我们将看到一系列有关这两类事件以及Modelica中处理事件的语言特性的例子。这些语言特性可用于表述事件的产生条件以及对其的响应。\n",
    "\n",
    "\n",
    "## 示例\n",
    "\n",
    "> [再探冷却](./Examples/Cooling%20case%20re-analysis.ipynb)\n",
    "\n",
    "> [弹跳球](./Examples/Bouncing%20ball.ipynb)\n",
    "\n",
    "> [状态事件的处理](./Examples/State%20Event%20Handing.ipynb)\n",
    "\n",
    "> [RLC开关电路](./Examples/RLC%20switching%20circuit.ipynb)\n",
    "\n",
    "> [速度的测量](./Examples/Velocity%20Measurements.ipynb)\n",
    "\n",
    "> [滞回](./Examples/Hysteresis.ipynb)\n",
    "\n",
    "> [同步系统](./Examples/Synchronizing%20System.ipynb)\n",
    "\n",
    "\n",
    "## 回顾\n",
    "\n",
    "\n",
    "> [事件](./Review/Events.ipynb)\n",
    "\n",
    "> [If语句及if表达式](./Review/If%20statements%20and%20If%20expression.ipynb)\n",
    "\n",
    "> [When语句](./Review/When%20statements.ipynb)\n",
    "\n"
   ]
  },
  {
   "cell_type": "code",
   "execution_count": null,
   "metadata": {},
   "outputs": [],
   "source": []
  }
 ],
 "metadata": {
  "anaconda-cloud": {},
  "kernelspec": {
   "display_name": "Python 3",
   "language": "python",
   "name": "python3"
  },
  "language_info": {
   "codemirror_mode": {
    "name": "ipython",
    "version": 3
   },
   "file_extension": ".py",
   "mimetype": "text/x-python",
   "name": "python",
   "nbconvert_exporter": "python",
   "pygments_lexer": "ipython3",
   "version": "3.6.4"
  }
 },
 "nbformat": 4,
 "nbformat_minor": 2
}
