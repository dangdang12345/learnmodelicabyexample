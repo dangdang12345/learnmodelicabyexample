{
 "cells": [
  {
   "cell_type": "markdown",
   "metadata": {},
   "source": [
    "![Python + GestaltReVision logo](logo.png)"
   ]
  },
  {
   "cell_type": "markdown",
   "metadata": {},
   "source": [
    "# Learn Modelica by Example"
   ]
  },
  {
   "cell_type": "markdown",
   "metadata": {},
   "source": [
    "Welcome to the introductory series to using [Python in vision research](http://gestaltrevision.be/wiki/python/python) brought to you by the [GestaltReVision](http://gestaltrevision.be) group (KU Leuven, Belgium).\n",
    "\n",
    "The series consist of seven IPython notebooks meant as a three-day crash course for vision researchers in programming with [Python](http://python.org), building experiments with [PsychoPy](http://psychopy.org) and [psychopy_ext](http://psychopy_ext.klab.lt/), learning the fMRI multi-voxel pattern analysis with [PyMVPA](http://www.pymvpa.org/), and understading image processing in Python.\n",
    "\n",
    "There are more extensive resources for vision scientists on [our GestaltReVision wiki](http://gestaltrevision.be/wiki/python/python).\n",
    "\n",
    "Please report any bugs or share ideas on our [GitHub repo](https://github.com/gestaltrevision/python_for_visres/issues)."
   ]
  },
  {
   "cell_type": "markdown",
   "metadata": {},
   "source": [
    "# Available tutorials"
   ]
  },
  {
   "cell_type": "markdown",
   "metadata": {},
   "source": [
    "1. [An introduction to Python](Part1/Part1_Intro_to_Python.ipynb)\n",
    "2. [Introduction to PsychoPy for creating experiments](Part2/Part2_PsychoPy.ipynb)\n",
    "3. [Transitioning from MATLAB to Python](Part3/Part3_Scientific_Python.ipynb)\n",
    "4. [More practice with PsychoPy](Part4/Part4_Practice_with_PsychoPy.ipynb)\n",
    "5. [Streamline research with psychopy_ext](Part5/Part5_psychopy_ext.ipynb)\n",
    "6. [Multi-voxel pattern analysis](Part6/Part6_MVPA.ipynb)\n",
    "7. [Natural image statistics](Part7/Part7_Image_Statistics.ipynb)"
   ]
  },
  {
   "cell_type": "markdown",
   "metadata": {},
   "source": [
    "# License"
   ]
  },
  {
   "cell_type": "markdown",
   "metadata": {},
   "source": [
    "**Authors:** Maarten Demeyer, [Jonas Kubilius](http://klab.lt)  \n",
    "**Year:** 2014  \n",
    "**Copyright:** Public Domain as in [CC0](https://creativecommons.org/publicdomain/zero/1.0/) (except where noted otherwise). Feel free to reuse these materials for your teaching or any other purposes."
   ]
  },
  {
   "cell_type": "markdown",
   "metadata": {},
   "source": [
    "# Contents of this notebook"
   ]
  },
  {
   "cell_type": "markdown",
   "metadata": {},
   "source": [
    "- [What you'll need](#What-you'll-need)\n",
    "  - [Tutorial code](#Tutorial-code)\n",
    "- [Checking your installation](#Checking-your-installation)\n",
    "- [Getting started](#Getting-started)\n",
    "  - [Opening IPython notebooks](#Opening-IPython-notebooks)\n",
    "    - [Windows](#Windows)\n",
    "    - [Mac OS / Linux](#Mac-OS-/-Linux)\n",
    "    - [Then:](#Then:)\n",
    "  - [Editing Python scripts](#Editing-Python-scripts)"
   ]
  },
  {
   "cell_type": "markdown",
   "metadata": {},
   "source": [
    "# What you'll need"
   ]
  },
  {
   "cell_type": "markdown",
   "metadata": {},
   "source": [
    "Unfortunately, getting Python and all necessary packages is one of the major difficulties for beginners. So please be patient and try to get everything in order because once you get it running, magic can start."
   ]
  },
  {
   "cell_type": "markdown",
   "metadata": {},
   "source": [
    "## Tutorial code"
   ]
  },
  {
   "cell_type": "markdown",
   "metadata": {},
   "source": [
    "All materials, including this notebook, are available [here](http://github.com/gestaltrevision/python_for_visres)."
   ]
  },
  {
   "cell_type": "markdown",
   "metadata": {},
   "source": [
    "### What? I don't want to mess with my machine!"
   ]
  },
  {
   "cell_type": "markdown",
   "metadata": {},
   "source": [
    "If you are having troubles installing Python and its packages, or you just don't want to change anything in your current setup, an excellent alternative is to install the NeuroDebian Virtual Machine. This will create a Linux desktop environment within your operating system, allowing you to follow the much simpler Linux installation procedures instead. Moreover, this Linux environment will be entirely separate from any other Python installation you may have on your machine, so you won't mess anything up by trying. Detailed instructions can be found [here](http://gestaltrevision.be/wiki/python/ndvm).\n",
    "\n",
    "Alternatively, if you are only interested in Scietific Python and or PsychoPy (sessions 1-4 and 7), the [Standalone PsychoPy installation](http://sourceforge.net/projects/psychpy/files/PsychoPy/) will largely suffice. You will not have IPython installed, but all examples should be working otherwise.\n",
    "\n",
    "For even more options, [check our wiki](http://gestaltrevision.be/wiki/python/pythoninstall)."
   ]
  },
  {
   "cell_type": "markdown",
   "metadata": {},
   "source": [
    "# Checking your installation"
   ]
  },
  {
   "cell_type": "markdown",
   "metadata": {},
   "source": [
    "Run the following cell (by pressing the ▶ button above or Ctrl+Enter) to check whether your computer contains all needed packages. This will generate a txt output file which you can e-mail to us, should a problem arise. Press a key when asked to, and close the new IPython Notebook window that will be opened. If the cell keeps running for up to 10 seconds after closing the notebook, just wait; this is normal."
   ]
  },
  {
   "cell_type": "markdown",
   "metadata": {},
   "source": [
    "# Getting started"
   ]
  },
  {
   "cell_type": "markdown",
   "metadata": {},
   "source": [
    "## Opening IPython notebooks"
   ]
  },
  {
   "cell_type": "markdown",
   "metadata": {},
   "source": [
    "### Windows"
   ]
  },
  {
   "cell_type": "markdown",
   "metadata": {},
   "source": [
    "1. Open command-line (``Start button > Type cmd > Enter``)\n",
    "2. Navigate to the folder where the IPython notebook is using the ``cd`` command\n",
    "    e.g. ``cd C:\\Users\\u000001\\Documents\\python_for_visres``.\n",
    "    \n",
    "    *Tip:* if you need to switch partitions, first type partition letter (no ``cd``) and hit enter, e.g., ``D:``"
   ]
  },
  {
   "cell_type": "markdown",
   "metadata": {},
   "source": [
    "### Mac OS / Linux"
   ]
  },
  {
   "cell_type": "markdown",
   "metadata": {},
   "source": [
    "1. Open command line (look for ``Terminal.app`` or `xterm`, or similar)\n",
    "2. Navigate to the folder where the IPython notebook is using the ``cd`` command, e.g. ``cd ~/python_for_visres``."
   ]
  },
  {
   "cell_type": "markdown",
   "metadata": {},
   "source": [
    "### Then:"
   ]
  },
  {
   "cell_type": "markdown",
   "metadata": {},
   "source": [
    "1. Type ``ipython notebook`` and hit enter. A new tab on your default browser should open with notebook choices listed. Doesn't work properly? Make sure you're not using an outdated or ridiculous browser (like some old Internet Explorer).\n",
    "2. Click on the notebook you want to open and play with."
   ]
  },
  {
   "cell_type": "markdown",
   "metadata": {},
   "source": [
    "## Editing Python scripts"
   ]
  },
  {
   "cell_type": "markdown",
   "metadata": {},
   "source": [
    "Python scripts are just text files. If you want, you can open them using any text editor, even Notepad. However, it is best to use specialized text editors for the task because they help you to code. Although in this tutorial we rely exclusively on IPython to write and run our scripts, in real life people usually use other text editors or integrated developments environments (IDEs) to create and run their scripts. Here is a list of some of our favorites:\n",
    "\n",
    "- Old school:\n",
    "  - [Spyder](https://code.google.com/p/spyderlib/) - Matlab-like environment, good for beginners.\n",
    "  - [Gedit](https://wiki.gnome.org/Apps/Gedit) with plugins\n",
    "  - [NinjaIDE](http://ninja-ide.org/)\n",
    "  - [Geany](http://www.geany.org/) (Linux/Windows)\n",
    "  - [Notepad++](http://notepad-plus-plus.org/) (Windows)\n",
    "  - [Textmate](http://macromates.com/) (Mac)\n",
    "  - [Kod](http://kodapp.com/) (Mac)\n",
    "  \n",
    "- Modern:\n",
    "  - [SublimeText](http://www.sublimetext.com/)\n",
    "  - [Zed](http://zedapp.org/)\n",
    "  - [Atom](https://atom.io/)\n",
    "  - [Brackets](http://brackets.io/)\n",
    "  - [LightTable](http://www.lighttable.com/)"
   ]
  }
 ],
 "metadata": {
  "kernelspec": {
   "display_name": "Python 3",
   "language": "python",
   "name": "python3"
  },
  "language_info": {
   "codemirror_mode": {
    "name": "ipython",
    "version": 3
   },
   "file_extension": ".py",
   "mimetype": "text/x-python",
   "name": "python",
   "nbconvert_exporter": "python",
   "pygments_lexer": "ipython3",
   "version": "3.6.4"
  }
 },
 "nbformat": 4,
 "nbformat_minor": 1
}
