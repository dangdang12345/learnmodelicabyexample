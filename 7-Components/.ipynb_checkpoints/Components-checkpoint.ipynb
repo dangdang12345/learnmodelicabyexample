{
 "cells": [
  {
   "cell_type": "markdown",
   "metadata": {},
   "source": [
    "# 连接器\n",
    "\n",
    "\n",
    "\n",
    "## 示例\n",
    "\n",
    "> [传热组件](./Examples/Heat transfer components.ipynb)\n",
    "\n",
    "> [电气部件](./Examples/Electrical components.ipynb)\n",
    "\n",
    "> [基本旋转组件](./Examples/Basic rotating parts.ipynb)\n",
    "\n",
    "> [高级旋转组件](./Examples/Senior rotary components.ipynb)\n",
    "\n",
    "> [框图组件](./Examples/BlockComponents.ipynb)\n",
    "\n",
    "> [再探猎食者猎物模型](./Examples/The research of redator prey model.ipynb)\n",
    "\n",
    "> [再探速度测量](./Examples/Velocity Measurement Cont.ipynb)\n",
    "\n",
    "\n",
    "\n",
    "## 回顾\n",
    "\n",
    "> [组件模型](./Review/Components Model.ipynb)\n",
    "\n",
    "> [组件模型标注](./Review/Component Model Annotation.ipynb)\n",
    "\n",
    "\n",
    "\n",
    "\n",
    "\n"
   ]
  }
 ],
 "metadata": {
  "anaconda-cloud": {},
  "kernelspec": {
   "display_name": "Python 3",
   "language": "python",
   "name": "python3"
  },
  "language_info": {
   "codemirror_mode": {
    "name": "ipython",
    "version": 3
   },
   "file_extension": ".py",
   "mimetype": "text/x-python",
   "name": "python",
   "nbconvert_exporter": "python",
   "pygments_lexer": "ipython3",
   "version": "3.6.0"
  }
 },
 "nbformat": 4,
 "nbformat_minor": 1
}
