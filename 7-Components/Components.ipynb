{
 "cells": [
  {
   "cell_type": "markdown",
   "metadata": {},
   "source": [
    "# 组件\n",
    "***\n",
    "Modelica是一种可以使用面向组件方法的语言，因此，如何去建立组件模型就大概是最重要内容了。\n",
    "\n",
    "到现在为止，我们主要专注于如何描述（连续和离散的）数学行为。现在是时候了解这些行为怎样可以 **包装成可重用的组件模型**。组件模型可重用意味着，同样的代码在编写和测试后就可以反复使用。这种重用可节省开发时间，避免编程错误，同时也简化了维护。\n",
    "\n",
    "## 示例\n",
    "\n",
    "> [传热组件](./Examples/Heat%20transfer%20components.ipynb)\n",
    "\n",
    "> [电气组件](./Examples/Electrical%20components.ipynb)\n",
    "\n",
    "> [基本旋转组件](./Examples/Basic%20rotating%20parts.ipynb)\n",
    "\n",
    "> [高级旋转组件](./Examples/Senior%20rotary%20components.ipynb)\n",
    "\n",
    "> [框图组件](./Examples/BlockComponents.ipynb)\n",
    "\n",
    "> [再探猎食者猎物模型](./Examples/The%20research%20of%20redator%20prey%20model.ipynb)\n",
    "\n",
    "> [再探速度测量](./Examples/Velocity%20Measurement%20Cont.ipynb)\n",
    "\n",
    "\n",
    "\n",
    "## 回顾\n",
    "\n",
    "> [组件模型](./Review/Components%20Model.ipynb)\n",
    "\n",
    "> [组件模型标注](./Review/Component%20Model%20Annotation.ipynb)\n",
    "\n",
    "\n",
    "\n",
    "\n",
    "\n"
   ]
  },
  {
   "cell_type": "code",
   "execution_count": null,
   "metadata": {},
   "outputs": [],
   "source": []
  }
 ],
 "metadata": {
  "anaconda-cloud": {},
  "kernelspec": {
   "display_name": "Python 3",
   "language": "python",
   "name": "python3"
  },
  "language_info": {
   "codemirror_mode": {
    "name": "ipython",
    "version": 3
   },
   "file_extension": ".py",
   "mimetype": "text/x-python",
   "name": "python",
   "nbconvert_exporter": "python",
   "pygments_lexer": "ipython3",
   "version": "3.6.4"
  }
 },
 "nbformat": 4,
 "nbformat_minor": 2
}
