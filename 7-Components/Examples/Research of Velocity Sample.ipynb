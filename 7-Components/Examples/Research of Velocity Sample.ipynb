{
 "cells": [
  {
   "cell_type": "markdown",
   "metadata": {},
   "source": [
    "# 再探速度测量\n",
    "\n",
    "回想一下我们前面对速度的测量的讨论。讨论发生在我们引入构建可重用组件方法之前。这样一来，为不同的速度测量技术相关添加方程颇为麻烦。\n",
    "\n",
    "本节中，我们将重新审视该主题，并再次讨论所有不同的速度估测技术。和之前一样，我们假设“受控对象”模型（我们希望进行测速的系统）已经存在。但这一次，我们将为不同的速度估测算法创建可重用的组件模型，并将其以图形组件形式添加到受控模型里。\n",
    "\n",
    "## 受控对象模型\n",
    " \n",
    " \n",
    " 我们首先处理“受控对象模型”。模型行为和在此前讨论速度的测量时的版本一致。系统示意图如下：\n",
    " \n",
    " <img src=\"./figure7\\33.svg\">\n",
    " \n",
    " \n",
    " 相应的Modelica模型源代码为：\n",
    " \n",
    "``` Modelica\n",
    "within ModelicaByExample.Components.SpeedMeasurement.Examples;\n",
    "\n",
    "model Plant \"The basic plant model\"\n",
    "  extends ModelicaByExample.Components.Rotational.Examples.SMD;\n",
    "  Components.IdealSensor idealSensor\n",
    "    annotation (Placement(transformation(extent={{-10,-10},{10,10}},\n",
    "                          rotation=90, origin={-20,30})));\n",
    "equation\n",
    "  connect(idealSensor.flange, inertia1.flange_a) annotation (Line(\n",
    "      points={{-20,20},{-20,0},{-10,0}}, color={0,0,0},\n",
    "      smooth=Smooth.None));\n",
    "  annotation(experiment(StopTime=10, Tolerance=1e-006));\n",
    "end Plant;\n",
    "```\n",
    "\n",
    "在本节剩余部分，我们将创建使用不同估算方法的模型，对受控对象模型的inertia1组件进行测速。\n",
    "我们在观察不同的速度近似方法前，让我们先看看受控对象模型的实际响应速度。"
   ]
  }
 ],
 "metadata": {
  "kernelspec": {
   "display_name": "Python 3",
   "language": "python",
   "name": "python3"
  },
  "language_info": {
   "codemirror_mode": {
    "name": "ipython",
    "version": 3
   },
   "file_extension": ".py",
   "mimetype": "text/x-python",
   "name": "python",
   "nbconvert_exporter": "python",
   "pygments_lexer": "ipython3",
   "version": "3.6.0"
  }
 },
 "nbformat": 4,
 "nbformat_minor": 2
}
